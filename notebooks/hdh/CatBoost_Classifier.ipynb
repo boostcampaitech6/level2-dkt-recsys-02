{
 "cells": [
  {
   "cell_type": "markdown",
   "metadata": {
    "id": "yt7sDAqHhfQp"
   },
   "source": [
    "# CatBoost\n",
    "\n",
    "- [docs](https://catboost.ai/en/docs/)"
   ]
  },
  {
   "cell_type": "code",
   "execution_count": 1,
   "metadata": {
    "ExecuteTime": {
     "end_time": "2021-05-24T09:49:29.375544Z",
     "start_time": "2021-05-24T09:49:28.999092Z"
    },
    "id": "Uq_TJqbdhfQu"
   },
   "outputs": [],
   "source": [
    "import pandas as pd\n",
    "import numpy as np\n",
    "import os\n",
    "import random\n",
    "import matplotlib.pyplot as plt\n",
    "from catboost import CatBoostClassifier, Pool\n",
    "from sklearn.metrics import roc_auc_score, accuracy_score"
   ]
  },
  {
   "cell_type": "markdown",
   "metadata": {
    "id": "QZlm5HSmhfQv"
   },
   "source": [
    "## 1. Data Load"
   ]
  },
  {
   "cell_type": "code",
   "execution_count": 2,
   "metadata": {
    "ExecuteTime": {
     "end_time": "2021-05-24T09:49:29.678737Z",
     "start_time": "2021-05-24T09:49:29.376581Z"
    },
    "id": "s6qgJ8MLhfQw"
   },
   "outputs": [
    {
     "data": {
      "text/html": [
       "<div>\n",
       "<style scoped>\n",
       "    .dataframe tbody tr th:only-of-type {\n",
       "        vertical-align: middle;\n",
       "    }\n",
       "\n",
       "    .dataframe tbody tr th {\n",
       "        vertical-align: top;\n",
       "    }\n",
       "\n",
       "    .dataframe thead th {\n",
       "        text-align: right;\n",
       "    }\n",
       "</style>\n",
       "<table border=\"1\" class=\"dataframe\">\n",
       "  <thead>\n",
       "    <tr style=\"text-align: right;\">\n",
       "      <th></th>\n",
       "      <th>userID</th>\n",
       "      <th>assessmentItemID</th>\n",
       "      <th>testId</th>\n",
       "      <th>answerCode</th>\n",
       "      <th>Timestamp</th>\n",
       "      <th>KnowledgeTag</th>\n",
       "    </tr>\n",
       "  </thead>\n",
       "  <tbody>\n",
       "    <tr>\n",
       "      <th>0</th>\n",
       "      <td>0</td>\n",
       "      <td>A060001001</td>\n",
       "      <td>A060000001</td>\n",
       "      <td>1</td>\n",
       "      <td>2020-03-24 00:17:11</td>\n",
       "      <td>7224</td>\n",
       "    </tr>\n",
       "    <tr>\n",
       "      <th>1</th>\n",
       "      <td>0</td>\n",
       "      <td>A060001002</td>\n",
       "      <td>A060000001</td>\n",
       "      <td>1</td>\n",
       "      <td>2020-03-24 00:17:14</td>\n",
       "      <td>7225</td>\n",
       "    </tr>\n",
       "    <tr>\n",
       "      <th>2</th>\n",
       "      <td>0</td>\n",
       "      <td>A060001003</td>\n",
       "      <td>A060000001</td>\n",
       "      <td>1</td>\n",
       "      <td>2020-03-24 00:17:22</td>\n",
       "      <td>7225</td>\n",
       "    </tr>\n",
       "    <tr>\n",
       "      <th>3</th>\n",
       "      <td>0</td>\n",
       "      <td>A060001004</td>\n",
       "      <td>A060000001</td>\n",
       "      <td>1</td>\n",
       "      <td>2020-03-24 00:17:29</td>\n",
       "      <td>7225</td>\n",
       "    </tr>\n",
       "    <tr>\n",
       "      <th>4</th>\n",
       "      <td>0</td>\n",
       "      <td>A060001005</td>\n",
       "      <td>A060000001</td>\n",
       "      <td>1</td>\n",
       "      <td>2020-03-24 00:17:36</td>\n",
       "      <td>7225</td>\n",
       "    </tr>\n",
       "  </tbody>\n",
       "</table>\n",
       "</div>"
      ],
      "text/plain": [
       "   userID assessmentItemID      testId  answerCode            Timestamp  \\\n",
       "0       0       A060001001  A060000001           1  2020-03-24 00:17:11   \n",
       "1       0       A060001002  A060000001           1  2020-03-24 00:17:14   \n",
       "2       0       A060001003  A060000001           1  2020-03-24 00:17:22   \n",
       "3       0       A060001004  A060000001           1  2020-03-24 00:17:29   \n",
       "4       0       A060001005  A060000001           1  2020-03-24 00:17:36   \n",
       "\n",
       "   KnowledgeTag  \n",
       "0          7224  \n",
       "1          7225  \n",
       "2          7225  \n",
       "3          7225  \n",
       "4          7225  "
      ]
     },
     "execution_count": 2,
     "metadata": {},
     "output_type": "execute_result"
    }
   ],
   "source": [
    "data_dir = './data/'\n",
    "csv_file_path = os.path.join(data_dir, 'train_data.csv') \n",
    "df = pd.read_csv(csv_file_path)\n",
    "df.head()"
   ]
  },
  {
   "cell_type": "markdown",
   "metadata": {
    "id": "p_oCGAgEhfQw"
   },
   "source": [
    "## 2. Feature Engineering"
   ]
  },
  {
   "cell_type": "code",
   "execution_count": 3,
   "metadata": {},
   "outputs": [],
   "source": [
    "import pandas as pd\n",
    "\n",
    "def feature_engineering(df):\n",
    "\n",
    "    # 유저별로 정렬\n",
    "    df.sort_values(by=['userID', 'Timestamp'], inplace=True)\n",
    "    \n",
    "    # 데이터 타입 변경\n",
    "    dtype = {\n",
    "        'userID': 'int16',\n",
    "        'answerCode': 'int8',\n",
    "        'KnowledgeTag': 'int16'\n",
    "    }\n",
    "    df = df.astype(dtype)\n",
    "    \n",
    "    # 'Timestamp' 열을 날짜/시간 형식으로 파싱\n",
    "    df['Timestamp'] = pd.to_datetime(df['Timestamp'], format='%Y-%m-%d %H:%M:%S')\n",
    "\n",
    "    # testTag 추가\n",
    "    df['testTag'] = df['testId'].apply(lambda x: x[2]).astype('int16')\n",
    "\n",
    "    # 유저별로 정답 누적 횟수 계산, 결측치 0\n",
    "    df['user_correct_answer'] = df.groupby('userID')['answerCode'].transform(lambda x: x.cumsum().shift(1))\n",
    "    df['user_correct_answer'].fillna(0, inplace=True)\n",
    "    \n",
    "    # 유저별로 제출 누적 횟수 계산\n",
    "    df['user_total_answer'] = df.groupby('userID')['answerCode'].cumcount() \n",
    "    \n",
    "    # 유저별로 누적 정답률 계산, 결측치 0.75\n",
    "    df['user_acc'] = df['user_correct_answer'] / df['user_total_answer']\n",
    "    df['user_acc'].fillna(0.75, inplace=True)\n",
    "\n",
    "    # userID별 정답률 추가\n",
    "    df['user_sum'] = df.groupby('userID')['answerCode'].transform('sum')\n",
    "    df['user_mean'] = df.groupby('userID')['answerCode'].transform('mean')\n",
    "    \n",
    "    # assessmentItemID별 정답률 추가\n",
    "    df['assessment_sum'] = df.groupby('assessmentItemID')['answerCode'].transform('sum')\n",
    "    df['assessment_mean'] = df.groupby('assessmentItemID')['answerCode'].transform('mean')\n",
    "    \n",
    "    # testId별 정답률 추가\n",
    "    df['test_sum'] = df.groupby('testId')['answerCode'].transform('sum')\n",
    "    df['test_mean'] = df.groupby('testId')['answerCode'].transform('mean')\n",
    "    \n",
    "    # KnowledgeTag별 정답률 추가\n",
    "    df['knowledgeTag_sum'] = df.groupby('KnowledgeTag')['answerCode'].transform('sum')\n",
    "    df['knowledgeTag_mean'] = df.groupby('KnowledgeTag')['answerCode'].transform('mean')\n",
    "    \n",
    "    # testTag별 정답률 추가\n",
    "    df['testTag_sum'] = df.groupby('testTag')['answerCode'].transform('sum')\n",
    "    df['testTag_mean'] = df.groupby('testTag')['answerCode'].transform('mean')\n",
    "\n",
    "    # 상대적 정답률\n",
    "    df['relative_answer_assessment'] = df['answerCode'] - df.groupby('assessmentItemID')['answerCode'].transform('mean')\n",
    "    \n",
    "    # 유저별 상대적 정답률 평균 - 학습 수준 레벨\n",
    "    df['relative_answer_mean'] = df.groupby('userID')['relative_answer_assessment'].transform('mean')\n",
    "\n",
    "    # 유저가 문항을 푼 시간\n",
    "    df['time_to_solve'] = df.groupby(['userID', 'testId'])['Timestamp'].diff().dt.total_seconds().shift(-1)\n",
    "    \n",
    "    # 결측치 이전 행의 값으로 채움\n",
    "    df['time_to_solve'].fillna(method='ffill', inplace=True)\n",
    "\n",
    "    # 유저별 문항 시간 평균\n",
    "    #df['time_to_solve_mean'] = df.groupby('userID')['time_to_solve'].transform('mean')\n",
    "    df['time_to_solve_mean'] = df.groupby(['userID', 'testId'])['time_to_solve'].transform('mean')\n",
    "\n",
    "    # clip(0, 255)는 메모리를 위해 uint8 데이터 타입을 쓰기 위함\n",
    "    df['prior_assessment_frequency'] = df.groupby(['userID', 'assessmentItemID']).cumcount().clip(0, 255)\n",
    "\n",
    "    # 각 태그별로 이전에 몇번 풀었는지\n",
    "    df['prior_KnowledgeTag_frequency'] = df.groupby(['userID', 'KnowledgeTag']).cumcount()\n",
    "    \n",
    "    # 시험지 태그별 학년별 몇번 풀었는지\n",
    "    df['prior_testTag_frequency'] = df.groupby(['userID', 'testTag']).cumcount()\n",
    "    \n",
    "    return df\n"
   ]
  },
  {
   "cell_type": "code",
   "execution_count": 4,
   "metadata": {
    "ExecuteTime": {
     "end_time": "2021-05-24T09:49:29.683739Z",
     "start_time": "2021-05-24T09:49:28.981Z"
    },
    "id": "2vsUwksMhfQy",
    "outputId": "e4c3b368-2623-4eeb-fcfe-e3ccb107f8aa",
    "scrolled": false
   },
   "outputs": [
    {
     "name": "stderr",
     "output_type": "stream",
     "text": [
      "/var/folders/8r/strv9f_x6b3ghnb0chcl145m0000gn/T/ipykernel_3091/21048499.py:63: FutureWarning: Series.fillna with 'method' is deprecated and will raise in a future version. Use obj.ffill() or obj.bfill() instead.\n",
      "  df['time_to_solve'].fillna(method='ffill', inplace=True)\n"
     ]
    },
    {
     "data": {
      "text/html": [
       "<div>\n",
       "<style scoped>\n",
       "    .dataframe tbody tr th:only-of-type {\n",
       "        vertical-align: middle;\n",
       "    }\n",
       "\n",
       "    .dataframe tbody tr th {\n",
       "        vertical-align: top;\n",
       "    }\n",
       "\n",
       "    .dataframe thead th {\n",
       "        text-align: right;\n",
       "    }\n",
       "</style>\n",
       "<table border=\"1\" class=\"dataframe\">\n",
       "  <thead>\n",
       "    <tr style=\"text-align: right;\">\n",
       "      <th></th>\n",
       "      <th>userID</th>\n",
       "      <th>assessmentItemID</th>\n",
       "      <th>testId</th>\n",
       "      <th>answerCode</th>\n",
       "      <th>Timestamp</th>\n",
       "      <th>KnowledgeTag</th>\n",
       "      <th>testTag</th>\n",
       "      <th>user_correct_answer</th>\n",
       "      <th>user_total_answer</th>\n",
       "      <th>user_acc</th>\n",
       "      <th>...</th>\n",
       "      <th>knowledgeTag_mean</th>\n",
       "      <th>testTag_sum</th>\n",
       "      <th>testTag_mean</th>\n",
       "      <th>relative_answer_assessment</th>\n",
       "      <th>relative_answer_mean</th>\n",
       "      <th>time_to_solve</th>\n",
       "      <th>time_to_solve_mean</th>\n",
       "      <th>prior_assessment_frequency</th>\n",
       "      <th>prior_KnowledgeTag_frequency</th>\n",
       "      <th>prior_testTag_frequency</th>\n",
       "    </tr>\n",
       "  </thead>\n",
       "  <tbody>\n",
       "    <tr>\n",
       "      <th>0</th>\n",
       "      <td>0</td>\n",
       "      <td>A060001001</td>\n",
       "      <td>A060000001</td>\n",
       "      <td>1</td>\n",
       "      <td>2020-03-24 00:17:11</td>\n",
       "      <td>7224</td>\n",
       "      <td>6</td>\n",
       "      <td>0.0</td>\n",
       "      <td>0</td>\n",
       "      <td>0.75</td>\n",
       "      <td>...</td>\n",
       "      <td>0.955022</td>\n",
       "      <td>187545</td>\n",
       "      <td>0.709232</td>\n",
       "      <td>0.017937</td>\n",
       "      <td>-0.025899</td>\n",
       "      <td>3.0</td>\n",
       "      <td>7.833333</td>\n",
       "      <td>0</td>\n",
       "      <td>0</td>\n",
       "      <td>0</td>\n",
       "    </tr>\n",
       "    <tr>\n",
       "      <th>1</th>\n",
       "      <td>0</td>\n",
       "      <td>A060001002</td>\n",
       "      <td>A060000001</td>\n",
       "      <td>1</td>\n",
       "      <td>2020-03-24 00:17:14</td>\n",
       "      <td>7225</td>\n",
       "      <td>6</td>\n",
       "      <td>1.0</td>\n",
       "      <td>1</td>\n",
       "      <td>1.00</td>\n",
       "      <td>...</td>\n",
       "      <td>0.913187</td>\n",
       "      <td>187545</td>\n",
       "      <td>0.709232</td>\n",
       "      <td>0.035874</td>\n",
       "      <td>-0.025899</td>\n",
       "      <td>8.0</td>\n",
       "      <td>7.833333</td>\n",
       "      <td>0</td>\n",
       "      <td>0</td>\n",
       "      <td>1</td>\n",
       "    </tr>\n",
       "    <tr>\n",
       "      <th>2</th>\n",
       "      <td>0</td>\n",
       "      <td>A060001003</td>\n",
       "      <td>A060000001</td>\n",
       "      <td>1</td>\n",
       "      <td>2020-03-24 00:17:22</td>\n",
       "      <td>7225</td>\n",
       "      <td>6</td>\n",
       "      <td>2.0</td>\n",
       "      <td>2</td>\n",
       "      <td>1.00</td>\n",
       "      <td>...</td>\n",
       "      <td>0.913187</td>\n",
       "      <td>187545</td>\n",
       "      <td>0.709232</td>\n",
       "      <td>0.089686</td>\n",
       "      <td>-0.025899</td>\n",
       "      <td>7.0</td>\n",
       "      <td>7.833333</td>\n",
       "      <td>0</td>\n",
       "      <td>1</td>\n",
       "      <td>2</td>\n",
       "    </tr>\n",
       "    <tr>\n",
       "      <th>3</th>\n",
       "      <td>0</td>\n",
       "      <td>A060001004</td>\n",
       "      <td>A060000001</td>\n",
       "      <td>1</td>\n",
       "      <td>2020-03-24 00:17:29</td>\n",
       "      <td>7225</td>\n",
       "      <td>6</td>\n",
       "      <td>3.0</td>\n",
       "      <td>3</td>\n",
       "      <td>1.00</td>\n",
       "      <td>...</td>\n",
       "      <td>0.913187</td>\n",
       "      <td>187545</td>\n",
       "      <td>0.709232</td>\n",
       "      <td>0.031390</td>\n",
       "      <td>-0.025899</td>\n",
       "      <td>7.0</td>\n",
       "      <td>7.833333</td>\n",
       "      <td>0</td>\n",
       "      <td>2</td>\n",
       "      <td>3</td>\n",
       "    </tr>\n",
       "    <tr>\n",
       "      <th>4</th>\n",
       "      <td>0</td>\n",
       "      <td>A060001005</td>\n",
       "      <td>A060000001</td>\n",
       "      <td>1</td>\n",
       "      <td>2020-03-24 00:17:36</td>\n",
       "      <td>7225</td>\n",
       "      <td>6</td>\n",
       "      <td>4.0</td>\n",
       "      <td>4</td>\n",
       "      <td>1.00</td>\n",
       "      <td>...</td>\n",
       "      <td>0.913187</td>\n",
       "      <td>187545</td>\n",
       "      <td>0.709232</td>\n",
       "      <td>0.058296</td>\n",
       "      <td>-0.025899</td>\n",
       "      <td>11.0</td>\n",
       "      <td>7.833333</td>\n",
       "      <td>0</td>\n",
       "      <td>3</td>\n",
       "      <td>4</td>\n",
       "    </tr>\n",
       "  </tbody>\n",
       "</table>\n",
       "<p>5 rows × 27 columns</p>\n",
       "</div>"
      ],
      "text/plain": [
       "   userID assessmentItemID      testId  answerCode           Timestamp  \\\n",
       "0       0       A060001001  A060000001           1 2020-03-24 00:17:11   \n",
       "1       0       A060001002  A060000001           1 2020-03-24 00:17:14   \n",
       "2       0       A060001003  A060000001           1 2020-03-24 00:17:22   \n",
       "3       0       A060001004  A060000001           1 2020-03-24 00:17:29   \n",
       "4       0       A060001005  A060000001           1 2020-03-24 00:17:36   \n",
       "\n",
       "   KnowledgeTag  testTag  user_correct_answer  user_total_answer  user_acc  \\\n",
       "0          7224        6                  0.0                  0      0.75   \n",
       "1          7225        6                  1.0                  1      1.00   \n",
       "2          7225        6                  2.0                  2      1.00   \n",
       "3          7225        6                  3.0                  3      1.00   \n",
       "4          7225        6                  4.0                  4      1.00   \n",
       "\n",
       "   ...  knowledgeTag_mean  testTag_sum  testTag_mean  \\\n",
       "0  ...           0.955022       187545      0.709232   \n",
       "1  ...           0.913187       187545      0.709232   \n",
       "2  ...           0.913187       187545      0.709232   \n",
       "3  ...           0.913187       187545      0.709232   \n",
       "4  ...           0.913187       187545      0.709232   \n",
       "\n",
       "   relative_answer_assessment  relative_answer_mean  time_to_solve  \\\n",
       "0                    0.017937             -0.025899            3.0   \n",
       "1                    0.035874             -0.025899            8.0   \n",
       "2                    0.089686             -0.025899            7.0   \n",
       "3                    0.031390             -0.025899            7.0   \n",
       "4                    0.058296             -0.025899           11.0   \n",
       "\n",
       "   time_to_solve_mean  prior_assessment_frequency  \\\n",
       "0            7.833333                           0   \n",
       "1            7.833333                           0   \n",
       "2            7.833333                           0   \n",
       "3            7.833333                           0   \n",
       "4            7.833333                           0   \n",
       "\n",
       "   prior_KnowledgeTag_frequency  prior_testTag_frequency  \n",
       "0                             0                        0  \n",
       "1                             0                        1  \n",
       "2                             1                        2  \n",
       "3                             2                        3  \n",
       "4                             3                        4  \n",
       "\n",
       "[5 rows x 27 columns]"
      ]
     },
     "execution_count": 4,
     "metadata": {},
     "output_type": "execute_result"
    }
   ],
   "source": [
    "df = feature_engineering(df)\n",
    "df.head()"
   ]
  },
  {
   "cell_type": "markdown",
   "metadata": {
    "id": "5VZzei3DhfQy"
   },
   "source": [
    "## 3. Train/Test 데이터 셋 분리"
   ]
  },
  {
   "cell_type": "code",
   "execution_count": 5,
   "metadata": {
    "ExecuteTime": {
     "end_time": "2021-05-24T09:49:29.684739Z",
     "start_time": "2021-05-24T09:49:28.982Z"
    },
    "id": "YOPWK7ckhfQz"
   },
   "outputs": [],
   "source": [
    "# train과 test 데이터셋은 사용자 별로 묶어서 분리를 해주어야함\n",
    "random.seed(42)\n",
    "\n",
    "def custom_train_test_split(df, ratio=0.7, split=True):\n",
    "    # df: 입력 데이터프레임\n",
    "    # ratio: 학습 데이터의 비율, 기본값은 0.7\n",
    "    # split: True로 설정할 경우 테스트 데이터를 반환, False로 설정할 경우 학습 데이터를 반환\n",
    "\n",
    "    # 사용자(UserID) 아이디와 해당 유저의 데이터 개수를 튜플로 묶어 리스트로 만듭니다.\n",
    "    users = list(zip(df['userID'].value_counts().index, df['userID'].value_counts()))\n",
    "    \n",
    "    # 유저 리스트를 무작위로 shuffle\n",
    "    random.shuffle(users)\n",
    "\n",
    "    # 학습용 데이터의 최대 길이를 계산(ratio), 1586610.2\n",
    "    max_train_data_len = ratio*len(df) \n",
    "\n",
    "    # 학습용 데이터의 누적 개수와 학습에 사용할 유저 아이디를 저장할 변수 초기화\n",
    "    sum_of_train_data = 0   # 1586711\n",
    "\n",
    "    # 학습에 사용할 user_id 를 리스트에 추가\n",
    "    user_ids =[]            # 4669 유저\n",
    "    for user_id, count in users:\n",
    "        sum_of_train_data += count\n",
    "        if max_train_data_len < sum_of_train_data: # 학습 데이터의 누적 개수가 최대 길이를 초과하면 루프를 종료\n",
    "            break\n",
    "        user_ids.append(user_id) \n",
    "\n",
    "    # 학습용 데이터로 사용할 user_id 에 해당하는 데이터를 선택하여 train에 할당 합니다.\n",
    "    train = df[df['userID'].isin(user_ids)]\n",
    "\n",
    "    # 테스트 데이터로 사용할 user_id 에 해당하는 데이터를 선택하여 test에 할당합니다.\n",
    "    test = df[df['userID'].isin(user_ids) == False]\n",
    "    \n",
    "    # test 데이터셋은 각 유저의 마지막 interaction만 추출\n",
    "    test = test[test['userID'] != test['userID'].shift(-1)]\n",
    "    return train, test"
   ]
  },
  {
   "cell_type": "code",
   "execution_count": 6,
   "metadata": {},
   "outputs": [],
   "source": [
    "# 1,586,157 :  2007(680,429) \n",
    "# test데이터셋은 각 유저의 마지막 interaction만 추출\n",
    "\n",
    "train, test = custom_train_test_split(df)"
   ]
  },
  {
   "cell_type": "code",
   "execution_count": 7,
   "metadata": {},
   "outputs": [],
   "source": [
    "# 피쳐 13개\n",
    "\n",
    "FEATS = [\n",
    " 'KnowledgeTag',\n",
    " 'testTag',\n",
    " 'user_correct_answer',\n",
    " 'user_total_answer',\n",
    " 'user_acc',\n",
    "#  'user_sum',\n",
    " 'user_mean',\n",
    "#  'assessment_sum',\n",
    " 'assessment_mean',\n",
    "#  'test_sum',\n",
    " 'test_mean',\n",
    "#  'knowledgeTag_sum',\n",
    " 'knowledgeTag_mean',\n",
    "#  'testTag_sum',\n",
    "#  'testTag_mean',\n",
    " #'relative_answer_assessment',\n",
    " 'relative_answer_mean',\n",
    " 'time_to_solve', \n",
    " 'time_to_solve_mean',\n",
    "#  'prior_assessment_frequency',\n",
    "#  'prior_KnowledgeTag_frequency',\n",
    " 'prior_testTag_frequency'\n",
    " ]"
   ]
  },
  {
   "cell_type": "code",
   "execution_count": 8,
   "metadata": {
    "ExecuteTime": {
     "end_time": "2021-05-24T09:49:29.686739Z",
     "start_time": "2021-05-24T09:49:28.984Z"
    },
    "id": "i3HzdoybhfQ0"
   },
   "outputs": [],
   "source": [
    "# X, y 값 분리 피쳐들, answerCode\n",
    "y_train = train['answerCode']\n",
    "train = train.drop(['answerCode'], axis=1)\n",
    "\n",
    "y_test = test['answerCode']\n",
    "test = test.drop(['answerCode'], axis=1)"
   ]
  },
  {
   "cell_type": "code",
   "execution_count": 9,
   "metadata": {},
   "outputs": [],
   "source": [
    "# CatBoost 데이터 형태로 변환\n",
    "train_pool = Pool(data=train[FEATS], label=y_train)\n",
    "test_pool = Pool(data=test[FEATS], label=y_test)"
   ]
  },
  {
   "cell_type": "markdown",
   "metadata": {},
   "source": [
    "## 4. 훈련 및 검증"
   ]
  },
  {
   "cell_type": "code",
   "execution_count": 10,
   "metadata": {},
   "outputs": [],
   "source": [
    "# CatBoost 모델 파라미터 설정\n",
    "\n",
    "params = {\n",
    "    'loss_function': 'Logloss',        # 손실 함수 (이진 분류의 경우 Logloss 사용)\n",
    "    'eval_metric': 'AUC',              # 평가 지표 (AUC)\n",
    "    'depth': 6,                        # 트리의 최대 깊이\n",
    "    'learning_rate': 0.1,              # 학습률\n",
    "    'subsample': 0.8,                  # 훈련 데이터 샘플링 비율\n",
    "    'colsample_bylevel': 0.8,          # 각 레벨(깊이)별로 사용되는 특성의 비율\n",
    "    'min_child_samples': 1,            # 리프 노드에 필요한 최소 데이터 수\n",
    "    'iterations': 500                  # 훈련 라운드 수\n",
    "}"
   ]
  },
  {
   "cell_type": "code",
   "execution_count": 11,
   "metadata": {},
   "outputs": [
    {
     "name": "stdout",
     "output_type": "stream",
     "text": [
      "0:\ttest: 0.7654860\tbest: 0.7654860 (0)\ttotal: 183ms\tremaining: 1m 31s\n",
      "100:\ttest: 0.8067541\tbest: 0.8068406 (99)\ttotal: 17.6s\tremaining: 1m 9s\n",
      "200:\ttest: 0.8083254\tbest: 0.8084367 (193)\ttotal: 35.5s\tremaining: 52.9s\n",
      "300:\ttest: 0.8095408\tbest: 0.8096422 (295)\ttotal: 53.7s\tremaining: 35.5s\n",
      "400:\ttest: 0.8099006\tbest: 0.8099155 (396)\ttotal: 1m 12s\tremaining: 17.8s\n",
      "499:\ttest: 0.8106530\tbest: 0.8107116 (489)\ttotal: 1m 32s\tremaining: 0us\n",
      "\n",
      "bestTest = 0.8107115882\n",
      "bestIteration = 489\n",
      "\n",
      "Shrink model to first 490 iterations.\n"
     ]
    },
    {
     "data": {
      "text/plain": [
       "<catboost.core.CatBoostClassifier at 0x7fe7920e56c0>"
      ]
     },
     "execution_count": 11,
     "metadata": {},
     "output_type": "execute_result"
    }
   ],
   "source": [
    "# CatBoost 모델 훈련\n",
    "model = CatBoostClassifier(**params)\n",
    "model.fit(train_pool, eval_set=test_pool, verbose=100)"
   ]
  },
  {
   "cell_type": "code",
   "execution_count": 12,
   "metadata": {},
   "outputs": [
    {
     "name": "stdout",
     "output_type": "stream",
     "text": [
      "VALID AUC: 0.8107115881534485 ACC: 0.7424015944195317\n",
      "\n"
     ]
    }
   ],
   "source": [
    "# 테스트 데이터에 대한 예측\n",
    "preds = model.predict(test_pool, prediction_type='Probability')[:, 1]\n",
    "\n",
    "# 정확도 및 AUC 평가\n",
    "acc = accuracy_score(y_test, np.where(preds >= 0.5, 1, 0))\n",
    "auc = roc_auc_score(y_test, preds)\n",
    "\n",
    "print(f'VALID AUC: {auc} ACC: {acc}\\n')"
   ]
  },
  {
   "cell_type": "code",
   "execution_count": 13,
   "metadata": {},
   "outputs": [
    {
     "data": {
      "image/png": "[encoded data removed]",
      "text/plain": [
       "<Figure size 1000x600 with 1 Axes>"
      ]
     },
     "metadata": {},
     "output_type": "display_data"
    }
   ],
   "source": [
    "# CatBoost 모델의 피처 중요도 얻기\n",
    "feature_importance = model.feature_importances_\n",
    "\n",
    "# 중요도가 높은 순으로 정렬\n",
    "sorted_idx = np.argsort(feature_importance)[::-1]\n",
    "\n",
    "# 상위 N개의 중요한 피처를 선택 (예: 상위 10개)\n",
    "top_n = 13\n",
    "top_features = [FEATS[i] for i in sorted_idx[:top_n]]\n",
    "top_importance = [feature_importance[i] for i in sorted_idx[:top_n]]\n",
    "\n",
    "# 중요한 피처 시각화\n",
    "plt.figure(figsize=(10, 6))\n",
    "plt.barh(top_features, top_importance)\n",
    "plt.xlabel('Feature Importance')\n",
    "plt.title('Top {} Features - CatBoost'.format(top_n))\n",
    "plt.gca().invert_yaxis()\n",
    "plt.show()\n"
   ]
  },
  {
   "cell_type": "markdown",
   "metadata": {},
   "source": [
    "## 5. Inference"
   ]
  },
  {
   "cell_type": "code",
   "execution_count": 14,
   "metadata": {},
   "outputs": [
    {
     "name": "stderr",
     "output_type": "stream",
     "text": [
      "/var/folders/8r/strv9f_x6b3ghnb0chcl145m0000gn/T/ipykernel_3091/21048499.py:63: FutureWarning: Series.fillna with 'method' is deprecated and will raise in a future version. Use obj.ffill() or obj.bfill() instead.\n",
      "  df['time_to_solve'].fillna(method='ffill', inplace=True)\n"
     ]
    }
   ],
   "source": [
    "# LOAD TESTDATA\n",
    "data_dir = './data/'\n",
    "test_csv_file_path = os.path.join(data_dir, 'test_data.csv')\n",
    "test_df = pd.read_csv(test_csv_file_path)\n",
    "\n",
    "# FEATURE ENGINEERING\n",
    "test_df = feature_engineering(test_df)\n",
    "\n",
    "# LEAVE LAST INTERACTION ONLY\n",
    "test_df = test_df[test_df['userID'] != test_df['userID'].shift(-1)]\n",
    "\n",
    "# DROP ANSWERCODE\n",
    "test_df = test_df.drop(['answerCode'], axis=1)\n",
    "\n",
    "# CatBoost 모델을 사용하여 전체 데이터에 대한 예측\n",
    "total_preds = model.predict(Pool(data=test_df[FEATS], label=None), prediction_type='Probability')[:, 1]"
   ]
  },
  {
   "cell_type": "code",
   "execution_count": 15,
   "metadata": {},
   "outputs": [
    {
     "name": "stdout",
     "output_type": "stream",
     "text": [
      "writing prediction: output_CatBoost/submission_CatBoost_f13.csv\n"
     ]
    }
   ],
   "source": [
    "# 결과를 파일로 저장\n",
    "\n",
    "output_dir = 'output_CatBoost/'\n",
    "write_path = os.path.join(output_dir, \"submission_CatBoost_f13.csv\")\n",
    "if not os.path.exists(output_dir):\n",
    "    os.makedirs(output_dir)\n",
    "with open(write_path, 'w', encoding='utf8') as w:\n",
    "    print(\"writing prediction: {}\".format(write_path))\n",
    "    w.write(\"id,prediction\\n\")\n",
    "    for id, p in enumerate(total_preds):\n",
    "        w.write('{},{}\\n'.format(id, p))"
   ]
  }
 ],
 "metadata": {
  "colab": {
   "provenance": []
  },
  "kernelspec": {
   "display_name": "Python 3 (ipykernel)",
   "language": "python",
   "name": "python3"
  },
  "language_info": {
   "codemirror_mode": {
    "name": "ipython",
    "version": 3
   },
   "file_extension": ".py",
   "mimetype": "text/x-python",
   "name": "python",
   "nbconvert_exporter": "python",
   "pygments_lexer": "ipython3",
   "version": "3.10.12"
  },
  "toc": {
   "base_numbering": 1,
   "nav_menu": {},
   "number_sections": false,
   "sideBar": true,
   "skip_h1_title": false,
   "title_cell": "Table of Contents",
   "title_sidebar": "Contents",
   "toc_cell": false,
   "toc_position": {},
   "toc_section_display": true,
   "toc_window_display": true
  },
  "varInspector": {
   "cols": {
    "lenName": 16,
    "lenType": 16,
    "lenVar": 40
   },
   "kernels_config": {
    "python": {
     "delete_cmd_postfix": "",
     "delete_cmd_prefix": "del ",
     "library": "var_list.py",
     "varRefreshCmd": "print(var_dic_list())"
    },
    "r": {
     "delete_cmd_postfix": ") ",
     "delete_cmd_prefix": "rm(",
     "library": "var_list.r",
     "varRefreshCmd": "cat(var_dic_list()) "
    }
   },
   "types_to_exclude": [
    "module",
    "function",
    "builtin_function_or_method",
    "instance",
    "_Feature"
   ],
   "window_display": false
  }
 },
 "nbformat": 4,
 "nbformat_minor": 1
}
