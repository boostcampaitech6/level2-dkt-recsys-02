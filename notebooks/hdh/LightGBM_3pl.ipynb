{
 "cells": [
  {
   "cell_type": "markdown",
   "metadata": {
    "id": "yt7sDAqHhfQp"
   },
   "source": [
    "# LightGBM\n",
    "\n",
    "- [docs](https://lightgbm.readthedocs.io/en/latest/index.html)"
   ]
  },
  {
   "cell_type": "code",
   "execution_count": 1,
   "metadata": {
    "ExecuteTime": {
     "end_time": "2021-05-24T09:49:29.375544Z",
     "start_time": "2021-05-24T09:49:28.999092Z"
    },
    "id": "Uq_TJqbdhfQu"
   },
   "outputs": [],
   "source": [
    "import pandas as pd햣\n",
    "import numpy as np\n",
    "import os\n",
    "import random\n",
    "import matplotlib.pyplot as plt\n",
    "import lightgbm as lgb\n",
    "from sklearn.metrics import roc_auc_score\n",
    "from sklearn.metrics import accuracy_score\n"
   ]
  },
  {
   "cell_type": "markdown",
   "metadata": {
    "id": "QZlm5HSmhfQv"
   },
   "source": [
    "## 1. Data Load"
   ]
  },
  {
   "cell_type": "code",
   "execution_count": 2,
   "metadata": {
    "ExecuteTime": {
     "end_time": "2021-05-24T09:49:29.678737Z",
     "start_time": "2021-05-24T09:49:29.376581Z"
    },
    "id": "s6qgJ8MLhfQw"
   },
   "outputs": [
    {
     "data": {
      "text/html": [
       "<div>\n",
       "<style scoped>\n",
       "    .dataframe tbody tr th:only-of-type {\n",
       "        vertical-align: middle;\n",
       "    }\n",
       "\n",
       "    .dataframe tbody tr th {\n",
       "        vertical-align: top;\n",
       "    }\n",
       "\n",
       "    .dataframe thead th {\n",
       "        text-align: right;\n",
       "    }\n",
       "</style>\n",
       "<table border=\"1\" class=\"dataframe\">\n",
       "  <thead>\n",
       "    <tr style=\"text-align: right;\">\n",
       "      <th></th>\n",
       "      <th>userID</th>\n",
       "      <th>assessmentItemID</th>\n",
       "      <th>testId</th>\n",
       "      <th>answerCode</th>\n",
       "      <th>Timestamp</th>\n",
       "      <th>KnowledgeTag</th>\n",
       "      <th>Dffclt</th>\n",
       "      <th>Dscrmn</th>\n",
       "      <th>Gussng</th>\n",
       "    </tr>\n",
       "  </thead>\n",
       "  <tbody>\n",
       "    <tr>\n",
       "      <th>0</th>\n",
       "      <td>0</td>\n",
       "      <td>A060001001</td>\n",
       "      <td>A060000001</td>\n",
       "      <td>1</td>\n",
       "      <td>2020-03-24 00:17:11</td>\n",
       "      <td>7224</td>\n",
       "      <td>-2.017182</td>\n",
       "      <td>20.079513</td>\n",
       "      <td>0.052178</td>\n",
       "    </tr>\n",
       "    <tr>\n",
       "      <th>1</th>\n",
       "      <td>0</td>\n",
       "      <td>A060001002</td>\n",
       "      <td>A060000001</td>\n",
       "      <td>1</td>\n",
       "      <td>2020-03-24 00:17:14</td>\n",
       "      <td>7225</td>\n",
       "      <td>-1.723821</td>\n",
       "      <td>4.616495</td>\n",
       "      <td>0.056888</td>\n",
       "    </tr>\n",
       "    <tr>\n",
       "      <th>2</th>\n",
       "      <td>0</td>\n",
       "      <td>A060001003</td>\n",
       "      <td>A060000001</td>\n",
       "      <td>1</td>\n",
       "      <td>2020-03-24 00:17:22</td>\n",
       "      <td>7225</td>\n",
       "      <td>-0.167255</td>\n",
       "      <td>18.583456</td>\n",
       "      <td>0.754422</td>\n",
       "    </tr>\n",
       "    <tr>\n",
       "      <th>3</th>\n",
       "      <td>0</td>\n",
       "      <td>A060001004</td>\n",
       "      <td>A060000001</td>\n",
       "      <td>1</td>\n",
       "      <td>2020-03-24 00:17:29</td>\n",
       "      <td>7225</td>\n",
       "      <td>0.496282</td>\n",
       "      <td>39.877030</td>\n",
       "      <td>0.946875</td>\n",
       "    </tr>\n",
       "    <tr>\n",
       "      <th>4</th>\n",
       "      <td>0</td>\n",
       "      <td>A060001005</td>\n",
       "      <td>A060000001</td>\n",
       "      <td>1</td>\n",
       "      <td>2020-03-24 00:17:36</td>\n",
       "      <td>7225</td>\n",
       "      <td>-1.335100</td>\n",
       "      <td>6.965071</td>\n",
       "      <td>0.237969</td>\n",
       "    </tr>\n",
       "  </tbody>\n",
       "</table>\n",
       "</div>"
      ],
      "text/plain": [
       "   userID assessmentItemID      testId  answerCode            Timestamp  \\\n",
       "0       0       A060001001  A060000001           1  2020-03-24 00:17:11   \n",
       "1       0       A060001002  A060000001           1  2020-03-24 00:17:14   \n",
       "2       0       A060001003  A060000001           1  2020-03-24 00:17:22   \n",
       "3       0       A060001004  A060000001           1  2020-03-24 00:17:29   \n",
       "4       0       A060001005  A060000001           1  2020-03-24 00:17:36   \n",
       "\n",
       "   KnowledgeTag    Dffclt     Dscrmn    Gussng  \n",
       "0          7224 -2.017182  20.079513  0.052178  \n",
       "1          7225 -1.723821   4.616495  0.056888  \n",
       "2          7225 -0.167255  18.583456  0.754422  \n",
       "3          7225  0.496282  39.877030  0.946875  \n",
       "4          7225 -1.335100   6.965071  0.237969  "
      ]
     },
     "execution_count": 2,
     "metadata": {},
     "output_type": "execute_result"
    }
   ],
   "source": [
    "data_dir = './data/' \n",
    "csv_file_path = os.path.join(data_dir, 'train_data_3PL.csv')\n",
    "df = pd.read_csv(csv_file_path)\n",
    "df.head()"
   ]
  },
  {
   "cell_type": "markdown",
   "metadata": {
    "id": "p_oCGAgEhfQw"
   },
   "source": [
    "## 2. Feature Engineering"
   ]
  },
  {
   "cell_type": "code",
   "execution_count": 3,
   "metadata": {},
   "outputs": [],
   "source": [
    "import pandas as pd\n",
    "\n",
    "def feature_engineering(df):\n",
    "\n",
    "    # 유저별로 정렬\n",
    "    df.sort_values(by=['userID', 'Timestamp'], inplace=True)\n",
    "    \n",
    "    # 데이터 타입 변경\n",
    "    dtype = {\n",
    "        'userID': 'int16',\n",
    "        'answerCode': 'int8',\n",
    "        'KnowledgeTag': 'int16'\n",
    "    }\n",
    "    df = df.astype(dtype)\n",
    "    \n",
    "    # 'Timestamp' 열을 날짜/시간 형식으로 파싱\n",
    "    df['Timestamp'] = pd.to_datetime(df['Timestamp'], format='%Y-%m-%d %H:%M:%S')\n",
    "\n",
    "    # testTag 추가\n",
    "    df['testTag'] = df['testId'].apply(lambda x: x[2]).astype('int16')\n",
    "\n",
    "    # 유저별로 정답 누적 횟수 계산, 결측치 0\n",
    "    df['user_correct_answer'] = df.groupby('userID')['answerCode'].transform(lambda x: x.cumsum().shift(1))\n",
    "    df['user_correct_answer'].fillna(0, inplace=True)\n",
    "    \n",
    "    # 유저별로 제출 누적 횟수 계산\n",
    "    df['user_total_answer'] = df.groupby('userID')['answerCode'].cumcount() \n",
    "    \n",
    "    # 유저별로 누적 정답률 계산, 결측치 0.75\n",
    "    df['user_acc'] = df['user_correct_answer'] / df['user_total_answer']\n",
    "    df['user_acc'].fillna(0.75, inplace=True)\n",
    "\n",
    "    # userID별 정답률 추가\n",
    "    df['user_sum'] = df.groupby('userID')['answerCode'].transform('sum')\n",
    "    df['user_mean'] = df.groupby('userID')['answerCode'].transform('mean')\n",
    "    \n",
    "    # assessmentItemID별 정답률 추가\n",
    "    df['assessment_sum'] = df.groupby('assessmentItemID')['answerCode'].transform('sum')\n",
    "    df['assessment_mean'] = df.groupby('assessmentItemID')['answerCode'].transform('mean')\n",
    "    \n",
    "    # testId별 정답률 추가\n",
    "    df['test_sum'] = df.groupby('testId')['answerCode'].transform('sum')\n",
    "    df['test_mean'] = df.groupby('testId')['answerCode'].transform('mean')\n",
    "    \n",
    "    # KnowledgeTag별 정답률 추가\n",
    "    df['knowledgeTag_sum'] = df.groupby('KnowledgeTag')['answerCode'].transform('sum')\n",
    "    df['knowledgeTag_mean'] = df.groupby('KnowledgeTag')['answerCode'].transform('mean')\n",
    "    \n",
    "    # testTag별 정답률 추가\n",
    "    df['testTag_sum'] = df.groupby('testTag')['answerCode'].transform('sum')\n",
    "    df['testTag_mean'] = df.groupby('testTag')['answerCode'].transform('mean')\n",
    "\n",
    "    # 상대적 정답률\n",
    "    df['relative_answer_assessment'] = df['answerCode'] - df.groupby('assessmentItemID')['answerCode'].transform('mean')\n",
    "    \n",
    "    # 유저별 상대적 정답률 평균 - 학습 수준 레벨\n",
    "    df['relative_answer_mean'] = df.groupby('userID')['relative_answer_assessment'].transform('mean')\n",
    "\n",
    "    # 유저가 문항을 푼 시간\n",
    "    df['time_to_solve'] = df.groupby(['userID', 'testId'])['Timestamp'].diff().dt.total_seconds().shift(-1)\n",
    "    \n",
    "    # 결측치 이전 행의 값으로 채움\n",
    "    df['time_to_solve'].fillna(method='ffill', inplace=True)\n",
    "\n",
    "    # 유저별 문항 시간 평균\n",
    "    #df['time_to_solve_mean'] = df.groupby('userID')['time_to_solve'].transform('mean')\n",
    "    df['time_to_solve_mean'] = df.groupby(['userID', 'testId'])['time_to_solve'].transform('mean')\n",
    "\n",
    "    # clip(0, 255)는 메모리를 위해 uint8 데이터 타입을 쓰기 위함\n",
    "    df['prior_assessment_frequency'] = df.groupby(['userID', 'assessmentItemID']).cumcount().clip(0, 255)\n",
    "\n",
    "    # 각 태그별로 이전에 몇번 풀었는지\n",
    "    df['prior_KnowledgeTag_frequency'] = df.groupby(['userID', 'KnowledgeTag']).cumcount()\n",
    "    \n",
    "    # 시험지 태그별 학년별 몇번 풀었는지\n",
    "    df['prior_testTag_frequency'] = df.groupby(['userID', 'testTag']).cumcount()\n",
    "    \n",
    "    return df\n"
   ]
  },
  {
   "cell_type": "code",
   "execution_count": 4,
   "metadata": {
    "ExecuteTime": {
     "end_time": "2021-05-24T09:49:29.683739Z",
     "start_time": "2021-05-24T09:49:28.981Z"
    },
    "id": "2vsUwksMhfQy",
    "outputId": "e4c3b368-2623-4eeb-fcfe-e3ccb107f8aa",
    "scrolled": false
   },
   "outputs": [
    {
     "name": "stderr",
     "output_type": "stream",
     "text": [
      "/var/folders/8r/strv9f_x6b3ghnb0chcl145m0000gn/T/ipykernel_2232/21048499.py:63: FutureWarning: Series.fillna with 'method' is deprecated and will raise in a future version. Use obj.ffill() or obj.bfill() instead.\n",
      "  df['time_to_solve'].fillna(method='ffill', inplace=True)\n"
     ]
    }
   ],
   "source": [
    "df = feature_engineering(df)"
   ]
  },
  {
   "cell_type": "code",
   "execution_count": 5,
   "metadata": {},
   "outputs": [
    {
     "name": "stdout",
     "output_type": "stream",
     "text": [
      "userID                                   int16\n",
      "assessmentItemID                        object\n",
      "testId                                  object\n",
      "answerCode                                int8\n",
      "Timestamp                       datetime64[ns]\n",
      "KnowledgeTag                             int16\n",
      "Dffclt                                 float64\n",
      "Dscrmn                                 float64\n",
      "Gussng                                 float64\n",
      "testTag                                  int16\n",
      "user_correct_answer                    float64\n",
      "user_total_answer                        int64\n",
      "user_acc                               float64\n",
      "user_sum                                 int64\n",
      "user_mean                              float64\n",
      "assessment_sum                           int64\n",
      "assessment_mean                        float64\n",
      "test_sum                                 int64\n",
      "test_mean                              float64\n",
      "knowledgeTag_sum                         int64\n",
      "knowledgeTag_mean                      float64\n",
      "testTag_sum                              int64\n",
      "testTag_mean                           float64\n",
      "relative_answer_assessment             float64\n",
      "relative_answer_mean                   float64\n",
      "time_to_solve                          float64\n",
      "time_to_solve_mean                     float64\n",
      "prior_assessment_frequency               int64\n",
      "prior_KnowledgeTag_frequency             int64\n",
      "prior_testTag_frequency                  int64\n",
      "dtype: object\n"
     ]
    }
   ],
   "source": [
    "data_types = df.dtypes\n",
    "print(data_types)"
   ]
  },
  {
   "cell_type": "markdown",
   "metadata": {
    "id": "5VZzei3DhfQy"
   },
   "source": [
    "## 3. Train/Test 데이터 셋 분리"
   ]
  },
  {
   "cell_type": "code",
   "execution_count": 6,
   "metadata": {
    "ExecuteTime": {
     "end_time": "2021-05-24T09:49:29.684739Z",
     "start_time": "2021-05-24T09:49:28.982Z"
    },
    "id": "YOPWK7ckhfQz"
   },
   "outputs": [],
   "source": [
    "# train과 test 데이터셋은 사용자 별로 묶어서 분리를 해주어야함\n",
    "\n",
    "random.seed(42)\n",
    "\n",
    "def custom_train_test_split(df, ratio=0.7, split=True):\n",
    "    # df: 입력 데이터프레임\n",
    "    # ratio: 학습 데이터의 비율, 기본값은 0.7\n",
    "    # split: True로 설정할 경우 테스트 데이터를 반환, False로 설정할 경우 학습 데이터를 반환\n",
    "\n",
    "    # 사용자(UserID) 아이디와 해당 유저의 데이터 개수를 튜플로 묶어 리스트로 만듭니다.\n",
    "    users = list(zip(df['userID'].value_counts().index, df['userID'].value_counts()))\n",
    "    \n",
    "    # 유저 리스트를 무작위로 shuffle\n",
    "    random.shuffle(users)\n",
    "\n",
    "    # 학습용 데이터의 최대 길이를 계산(ratio), 1586610.2\n",
    "    max_train_data_len = ratio*len(df) \n",
    "\n",
    "    # 학습용 데이터의 누적 개수와 학습에 사용할 유저 아이디를 저장할 변수 초기화\n",
    "    sum_of_train_data = 0   # 1586711\n",
    "\n",
    "    # 학습에 사용할 user_id 를 리스트에 추가\n",
    "    user_ids =[]            # 4669 유저\n",
    "    for user_id, count in users:\n",
    "        sum_of_train_data += count\n",
    "        if max_train_data_len < sum_of_train_data: # 학습 데이터의 누적 개수가 최대 길이를 초과하면 루프를 종료\n",
    "            break\n",
    "        user_ids.append(user_id) \n",
    "\n",
    "    # 학습용 데이터로 사용할 user_id 에 해당하는 데이터를 선택하여 train에 할당 합니다.\n",
    "    train = df[df['userID'].isin(user_ids)]\n",
    "\n",
    "    # 테스트 데이터로 사용할 user_id 에 해당하는 데이터를 선택하여 test에 할당합니다.\n",
    "    test = df[df['userID'].isin(user_ids) == False]\n",
    "    \n",
    "    # test 데이터셋은 각 유저의 마지막 interaction만 추출\n",
    "    test = test[test['userID'] != test['userID'].shift(-1)]\n",
    "    return train, test"
   ]
  },
  {
   "cell_type": "code",
   "execution_count": 7,
   "metadata": {},
   "outputs": [],
   "source": [
    "train, test = custom_train_test_split(df)"
   ]
  },
  {
   "cell_type": "code",
   "execution_count": 8,
   "metadata": {},
   "outputs": [
    {
     "data": {
      "text/plain": [
       "['userID',\n",
       " 'assessmentItemID',\n",
       " 'testId',\n",
       " 'answerCode',\n",
       " 'Timestamp',\n",
       " 'KnowledgeTag',\n",
       " 'Dffclt',\n",
       " 'Dscrmn',\n",
       " 'Gussng',\n",
       " 'testTag',\n",
       " 'user_correct_answer',\n",
       " 'user_total_answer',\n",
       " 'user_acc',\n",
       " 'user_sum',\n",
       " 'user_mean',\n",
       " 'assessment_sum',\n",
       " 'assessment_mean',\n",
       " 'test_sum',\n",
       " 'test_mean',\n",
       " 'knowledgeTag_sum',\n",
       " 'knowledgeTag_mean',\n",
       " 'testTag_sum',\n",
       " 'testTag_mean',\n",
       " 'relative_answer_assessment',\n",
       " 'relative_answer_mean',\n",
       " 'time_to_solve',\n",
       " 'time_to_solve_mean',\n",
       " 'prior_assessment_frequency',\n",
       " 'prior_KnowledgeTag_frequency',\n",
       " 'prior_testTag_frequency']"
      ]
     },
     "execution_count": 8,
     "metadata": {},
     "output_type": "execute_result"
    }
   ],
   "source": [
    "df.columns.tolist()"
   ]
  },
  {
   "cell_type": "code",
   "execution_count": 9,
   "metadata": {},
   "outputs": [],
   "source": [
    "# 3pl 포함 피쳐 13개\n",
    "\n",
    "FEATS = [\n",
    "#  'userID',\n",
    "#  'assessmentItemID',\n",
    "#  'testId',\n",
    "#  'answerCode',\n",
    "#  'Timestamp',\n",
    " 'KnowledgeTag',\n",
    " 'Dffclt',\n",
    " 'Dscrmn',\n",
    " 'Gussng',\n",
    " 'testTag',\n",
    " 'user_correct_answer',\n",
    " 'user_total_answer',\n",
    " 'user_acc',\n",
    "#  'user_sum',\n",
    " 'user_mean',\n",
    "#  'assessment_sum',\n",
    "#  'assessment_mean',\n",
    "#  'test_sum',\n",
    "#  'test_mean',\n",
    "#  'knowledgeTag_sum',\n",
    "#  'knowledgeTag_mean',\n",
    "#  'testTag_sum',\n",
    "#  'testTag_mean',\n",
    "#  'relative_answer_assessment',\n",
    " 'relative_answer_mean',\n",
    " 'time_to_solve',\n",
    " 'time_to_solve_mean',\n",
    "#  'prior_assessment_frequency',\n",
    "#  'prior_KnowledgeTag_frequency',\n",
    " 'prior_testTag_frequency'\n",
    " ]"
   ]
  },
  {
   "cell_type": "code",
   "execution_count": 10,
   "metadata": {
    "ExecuteTime": {
     "end_time": "2021-05-24T09:49:29.686739Z",
     "start_time": "2021-05-24T09:49:28.984Z"
    },
    "id": "i3HzdoybhfQ0"
   },
   "outputs": [],
   "source": [
    "# 'answerCode' 열을 따로 추출하여 타겟 변수로 저장합니다.\n",
    "y_train = train['answerCode']\n",
    "\n",
    "# 'answerCode' 열을 제거하여 학습 데이터의 피쳐들만 남깁니다.\n",
    "train = train.drop(['answerCode'], axis=1)\n",
    "\n",
    "# 테스트 데이터에서 'answerCode' 열을 따로 추출하여 테스트 데이터의 타겟 변수로 저장합니다.\n",
    "y_test = test['answerCode']\n",
    "\n",
    "# 테스트 데이터에서도 'answerCode' 열을 제거하여 피쳐들만 남깁니다.\n",
    "test = test.drop(['answerCode'], axis=1)\n",
    "\n",
    "# LightGBM 모델에 사용할 학습 데이터, 테스트를 lgb.Dataset 형식으로 변환합니다.\n",
    "lgb_train = lgb.Dataset(train[FEATS], y_train)\n",
    "lgb_test = lgb.Dataset(test[FEATS], y_test)\n"
   ]
  },
  {
   "cell_type": "markdown",
   "metadata": {
    "id": "KiHss_BBhfQ2"
   },
   "source": [
    "## 4. 훈련 및 검증"
   ]
  },
  {
   "cell_type": "code",
   "execution_count": 11,
   "metadata": {
    "ExecuteTime": {
     "end_time": "2021-05-24T09:49:29.689738Z",
     "start_time": "2021-05-24T09:49:28.988Z"
    },
    "id": "-6FZfjA_hfQ2",
    "outputId": "c70b2e80-98f2-498f-e66b-c97667887110"
   },
   "outputs": [
    {
     "name": "stdout",
     "output_type": "stream",
     "text": [
      "[LightGBM] [Info] Number of positive: 1039565, number of negative: 546592\n",
      "[LightGBM] [Info] Auto-choosing row-wise multi-threading, the overhead of testing was 0.007106 seconds.\n",
      "You can set `force_row_wise=true` to remove the overhead.\n",
      "And if memory is not enough, you can set `force_col_wise=true`.\n",
      "[LightGBM] [Info] Total Bins 3070\n",
      "[LightGBM] [Info] Number of data points in the train set: 1586157, number of used features: 13\n",
      "[LightGBM] [Info] [binary:BoostFromScore]: pavg=0.655399 -> initscore=0.642855\n",
      "[LightGBM] [Info] Start training from score 0.642855\n",
      "VALID AUC : 0.8151262174517988 ACC : 0.7458893871449925\n",
      "\n"
     ]
    }
   ],
   "source": [
    "model = lgb.train(\n",
    "    {'objective': 'binary'},\n",
    "    lgb_train,\n",
    "    valid_sets=[lgb_train, lgb_test],\n",
    "    num_boost_round=500,                #  Number of boosting iterations.\n",
    "    )\n",
    "\n",
    "preds = model.predict(test[FEATS])\n",
    "acc = accuracy_score(y_test, np.where(preds >= 0.5, 1, 0))\n",
    "auc = roc_auc_score(y_test, preds)\n",
    "\n",
    "print(f'VALID AUC : {auc} ACC : {acc}\\n')"
   ]
  },
  {
   "cell_type": "code",
   "execution_count": 12,
   "metadata": {
    "ExecuteTime": {
     "end_time": "2021-05-24T09:49:29.690738Z",
     "start_time": "2021-05-24T09:49:28.989Z"
    },
    "id": "CKRjM0rxhfQ2"
   },
   "outputs": [
    {
     "data": {
      "image/png": "[encoded data removed]",
      "text/plain": [
       "<Figure size 640x480 with 1 Axes>"
      ]
     },
     "metadata": {},
     "output_type": "display_data"
    }
   ],
   "source": [
    "# INSTALL MATPLOTLIB IN ADVANCE\n",
    "_ = lgb.plot_importance(model)"
   ]
  },
  {
   "cell_type": "markdown",
   "metadata": {
    "id": "8Bsff1ZVhfQ3"
   },
   "source": [
    "## 5. Inference"
   ]
  },
  {
   "cell_type": "code",
   "execution_count": 13,
   "metadata": {
    "ExecuteTime": {
     "end_time": "2021-05-24T09:49:29.691738Z",
     "start_time": "2021-05-24T09:49:28.992Z"
    },
    "id": "N6YEFm8IhfQ3"
   },
   "outputs": [
    {
     "name": "stderr",
     "output_type": "stream",
     "text": [
      "/var/folders/8r/strv9f_x6b3ghnb0chcl145m0000gn/T/ipykernel_2232/21048499.py:63: FutureWarning: Series.fillna with 'method' is deprecated and will raise in a future version. Use obj.ffill() or obj.bfill() instead.\n",
      "  df['time_to_solve'].fillna(method='ffill', inplace=True)\n"
     ]
    }
   ],
   "source": [
    "# LOAD TESTDATA\n",
    "data_dir = './data/'\n",
    "test_csv_file_path = os.path.join(data_dir, 'test_data_3PL.csv')\n",
    "test_df = pd.read_csv(test_csv_file_path)\n",
    "\n",
    "# FEATURE ENGINEERING\n",
    "test_df = feature_engineering(test_df)\n",
    "\n",
    "# LEAVE LAST INTERACTION ONLY\n",
    "test_df = test_df[test_df['userID'] != test_df['userID'].shift(-1)]\n",
    "\n",
    "# DROP ANSWERCODE\n",
    "test_df = test_df.drop(['answerCode'], axis=1)"
   ]
  },
  {
   "cell_type": "code",
   "execution_count": 14,
   "metadata": {
    "ExecuteTime": {
     "end_time": "2021-05-24T09:49:29.692739Z",
     "start_time": "2021-05-24T09:49:28.993Z"
    },
    "id": "XnwXJs_shfQ4"
   },
   "outputs": [],
   "source": [
    "# MAKE PREDICTION\n",
    "total_preds = model.predict(test_df[FEATS])"
   ]
  },
  {
   "cell_type": "code",
   "execution_count": 15,
   "metadata": {},
   "outputs": [
    {
     "name": "stdout",
     "output_type": "stream",
     "text": [
      "writing prediction : output_LightGBM/submission_LightGBM_f13.csv\n"
     ]
    }
   ],
   "source": [
    "# SAVE OUTPUT\n",
    "output_dir = 'output_LightGBM/'\n",
    "write_path = os.path.join(output_dir, \"submission_LightGBM_3pl_f13.csv\")\n",
    "if not os.path.exists(output_dir):\n",
    "    os.makedirs(output_dir)\n",
    "with open(write_path, 'w', encoding='utf8') as w:\n",
    "    print(\"writing prediction : {}\".format(write_path))\n",
    "    w.write(\"id,prediction\\n\")\n",
    "    for id, p in enumerate(total_preds):\n",
    "        w.write('{},{}\\n'.format(id,p))"
   ]
  },
  {
   "cell_type": "markdown",
   "metadata": {},
   "source": [
    "---\n"
   ]
  }
 ],
 "metadata": {
  "colab": {
   "provenance": []
  },
  "kernelspec": {
   "display_name": "Python 3 (ipykernel)",
   "language": "python",
   "name": "python3"
  },
  "language_info": {
   "codemirror_mode": {
    "name": "ipython",
    "version": 3
   },
   "file_extension": ".py",
   "mimetype": "text/x-python",
   "name": "python",
   "nbconvert_exporter": "python",
   "pygments_lexer": "ipython3",
   "version": "3.10.12"
  },
  "toc": {
   "base_numbering": 1,
   "nav_menu": {},
   "number_sections": false,
   "sideBar": true,
   "skip_h1_title": false,
   "title_cell": "Table of Contents",
   "title_sidebar": "Contents",
   "toc_cell": false,
   "toc_position": {},
   "toc_section_display": true,
   "toc_window_display": true
  },
  "varInspector": {
   "cols": {
    "lenName": 16,
    "lenType": 16,
    "lenVar": 40
   },
   "kernels_config": {
    "python": {
     "delete_cmd_postfix": "",
     "delete_cmd_prefix": "del ",
     "library": "var_list.py",
     "varRefreshCmd": "print(var_dic_list())"
    },
    "r": {
     "delete_cmd_postfix": ") ",
     "delete_cmd_prefix": "rm(",
     "library": "var_list.r",
     "varRefreshCmd": "cat(var_dic_list()) "
    }
   },
   "types_to_exclude": [
    "module",
    "function",
    "builtin_function_or_method",
    "instance",
    "_Feature"
   ],
   "window_display": false
  }
 },
 "nbformat": 4,
 "nbformat_minor": 1
}
