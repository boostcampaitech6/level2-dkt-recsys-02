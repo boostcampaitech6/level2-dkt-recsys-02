{
 "cells": [
  {
   "cell_type": "markdown",
   "id": "59fc1b47",
   "metadata": {
    "id": "59fc1b47"
   },
   "source": [
    "> 간단한 EDA를 통해 데이터를 살펴보는 시간이었으면 좋겠습니다. 추가로 캠퍼분들이 궁금해하는 내용들을 직접 확인해보는 시간이 되기를 바랍니다."
   ]
  },
  {
   "cell_type": "markdown",
   "id": "64ac44a3",
   "metadata": {
    "id": "fitting-circulation"
   },
   "source": [
    "# 0. 라이브러리 / 기본셋업"
   ]
  },
  {
   "cell_type": "code",
   "execution_count": 1,
   "id": "cLbLvv9Q6yV3",
   "metadata": {
    "colab": {
     "base_uri": "https://localhost:8080/"
    },
    "id": "cLbLvv9Q6yV3",
    "outputId": "89da4d4c-281d-4915-8bd0-9ec1dd792bf3"
   },
   "outputs": [],
   "source": [
    "# !pip install python==3.10.12\n",
    "# !pip install numpy==1.26.0\n",
    "# !pip install pandas==2.1.1\n",
    "# !pip install matplotlib==3.8.1\n",
    "# !pip install seaborn==0.13.0\n",
    "# !pip install missingno"
   ]
  },
  {
   "cell_type": "code",
   "execution_count": 2,
   "id": "hearing-development",
   "metadata": {
    "ExecuteTime": {
     "end_time": "2021-05-17T06:42:08.319651Z",
     "start_time": "2021-05-17T06:42:07.294399Z"
    },
    "id": "hearing-development"
   },
   "outputs": [],
   "source": [
    "import numpy as np\n",
    "import pandas as pd\n",
    "import matplotlib.pyplot as plt\n",
    "import seaborn as sns; sns.set_theme(color_codes=True)\n",
    "import missingno as msno\n",
    "\n",
    "from tqdm import tqdm"
   ]
  },
  {
   "cell_type": "markdown",
   "id": "5127e54e",
   "metadata": {
    "id": "5127e54e"
   },
   "source": [
    "버전 확인\n",
    "\n",
    "- `python` >= 3.10.12\n",
    "- `numpy` >= 1.26.0\n",
    "- `pandas` >= 2.1.1\n",
    "- `matplotlib` >= 3.8.1\n",
    "- `seaborn` >= 0.13.0\n",
    "- `missingno` >= 0.5.2"
   ]
  },
  {
   "cell_type": "code",
   "execution_count": 3,
   "id": "4d5c0aec",
   "metadata": {
    "colab": {
     "base_uri": "https://localhost:8080/"
    },
    "id": "4d5c0aec",
    "outputId": "29aee695-ef03-4280-a0b7-011978cd4699"
   },
   "outputs": [
    {
     "name": "stdout",
     "output_type": "stream",
     "text": [
      "===== 나의 라이브러리 버전 확인 =====\n",
      "python version  <> 3.11.5 | packaged by Anaconda, Inc. | (main, Sep 11 2023, 13:26:23) [MSC v.1916 64 bit (AMD64)]\n",
      "numpy version   <> 1.26.0\n",
      "pandas version  <> 2.1.1\n",
      "matplotlib version <> 3.8.1\n",
      "seaborn version <> 0.13.0\n",
      "missingno version <> 0.5.2\n"
     ]
    }
   ],
   "source": [
    "import sys, matplotlib\n",
    "\n",
    "print(\"=\"*5 ,\"나의 라이브러리 버전 확인\", \"=\"*5)\n",
    "print(f\"{'python version':15s} <> {sys.version}\")\n",
    "print(f\"{'numpy version':15s} <> {np.__version__}\")\n",
    "print(f\"{'pandas version':15s} <> {pd.__version__}\")\n",
    "print(f\"{'matplotlib version':15s} <> {matplotlib.__version__}\")\n",
    "print(f\"{'seaborn version':15s} <> {sns.__version__}\")\n",
    "print(f\"{'missingno version':15s} <> {msno.__version__}\")"
   ]
  },
  {
   "cell_type": "code",
   "execution_count": 4,
   "id": "typical-rubber",
   "metadata": {
    "ExecuteTime": {
     "end_time": "2021-05-17T06:42:13.009550Z",
     "start_time": "2021-05-17T06:42:08.321583Z"
    },
    "colab": {
     "base_uri": "https://localhost:8080/",
     "height": 678
    },
    "id": "typical-rubber",
    "outputId": "b147b7b6-452b-4f60-989b-3f5239a7e247"
   },
   "outputs": [
    {
     "name": "stdout",
     "output_type": "stream",
     "text": [
      "CPU times: total: 2.11 s\n",
      "Wall time: 2.99 s\n"
     ]
    }
   ],
   "source": [
    "%%time\n",
    "dtype = {\n",
    "    'userID': 'int16',\n",
    "    'answerCode': 'int8',\n",
    "    'KnowledgeTag': 'int16'\n",
    "}\n",
    "\n",
    "# 데이터 경로 맞춰주세요!\n",
    "# 혹시 코랩환경을 사용하신다면 왼쪽 폴더모양 아이콘을 눌러 \"train_data.csv\"를 드래그&드롭으로 업로드한 후 사용해주세요\n",
    "DATA_PATH = './train_data.csv'\n",
    "df = pd.read_csv(DATA_PATH, dtype=dtype, parse_dates=['Timestamp'])\n",
    "df = df.sort_values(by=['userID', 'Timestamp']).reset_index(drop=True)"
   ]
  },
  {
   "cell_type": "code",
   "execution_count": 5,
   "id": "6df45ce2",
   "metadata": {},
   "outputs": [],
   "source": [
    "import warnings\n",
    "warnings.filterwarnings(action='ignore')"
   ]
  },
  {
   "cell_type": "code",
   "execution_count": 6,
   "id": "c3581f58",
   "metadata": {
    "colab": {
     "base_uri": "https://localhost:8080/",
     "height": 182
    },
    "id": "c3581f58",
    "outputId": "25cea69a-6e44-48e3-8aef-61086bb09cf6"
   },
   "outputs": [
    {
     "data": {
      "text/html": [
       "<div>\n",
       "<style scoped>\n",
       "    .dataframe tbody tr th:only-of-type {\n",
       "        vertical-align: middle;\n",
       "    }\n",
       "\n",
       "    .dataframe tbody tr th {\n",
       "        vertical-align: top;\n",
       "    }\n",
       "\n",
       "    .dataframe thead th {\n",
       "        text-align: right;\n",
       "    }\n",
       "</style>\n",
       "<table border=\"1\" class=\"dataframe\">\n",
       "  <thead>\n",
       "    <tr style=\"text-align: right;\">\n",
       "      <th></th>\n",
       "      <th>userID</th>\n",
       "      <th>assessmentItemID</th>\n",
       "      <th>testId</th>\n",
       "      <th>answerCode</th>\n",
       "      <th>Timestamp</th>\n",
       "      <th>KnowledgeTag</th>\n",
       "    </tr>\n",
       "  </thead>\n",
       "  <tbody>\n",
       "    <tr>\n",
       "      <th>0</th>\n",
       "      <td>0</td>\n",
       "      <td>A060001001</td>\n",
       "      <td>A060000001</td>\n",
       "      <td>1</td>\n",
       "      <td>2020-03-24 00:17:11</td>\n",
       "      <td>7224</td>\n",
       "    </tr>\n",
       "    <tr>\n",
       "      <th>1</th>\n",
       "      <td>0</td>\n",
       "      <td>A060001002</td>\n",
       "      <td>A060000001</td>\n",
       "      <td>1</td>\n",
       "      <td>2020-03-24 00:17:14</td>\n",
       "      <td>7225</td>\n",
       "    </tr>\n",
       "    <tr>\n",
       "      <th>2</th>\n",
       "      <td>0</td>\n",
       "      <td>A060001003</td>\n",
       "      <td>A060000001</td>\n",
       "      <td>1</td>\n",
       "      <td>2020-03-24 00:17:22</td>\n",
       "      <td>7225</td>\n",
       "    </tr>\n",
       "    <tr>\n",
       "      <th>3</th>\n",
       "      <td>0</td>\n",
       "      <td>A060001004</td>\n",
       "      <td>A060000001</td>\n",
       "      <td>1</td>\n",
       "      <td>2020-03-24 00:17:29</td>\n",
       "      <td>7225</td>\n",
       "    </tr>\n",
       "    <tr>\n",
       "      <th>4</th>\n",
       "      <td>0</td>\n",
       "      <td>A060001005</td>\n",
       "      <td>A060000001</td>\n",
       "      <td>1</td>\n",
       "      <td>2020-03-24 00:17:36</td>\n",
       "      <td>7225</td>\n",
       "    </tr>\n",
       "  </tbody>\n",
       "</table>\n",
       "</div>"
      ],
      "text/plain": [
       "   userID assessmentItemID      testId  answerCode           Timestamp  \\\n",
       "0       0       A060001001  A060000001           1 2020-03-24 00:17:11   \n",
       "1       0       A060001002  A060000001           1 2020-03-24 00:17:14   \n",
       "2       0       A060001003  A060000001           1 2020-03-24 00:17:22   \n",
       "3       0       A060001004  A060000001           1 2020-03-24 00:17:29   \n",
       "4       0       A060001005  A060000001           1 2020-03-24 00:17:36   \n",
       "\n",
       "   KnowledgeTag  \n",
       "0          7224  \n",
       "1          7225  \n",
       "2          7225  \n",
       "3          7225  \n",
       "4          7225  "
      ]
     },
     "execution_count": 6,
     "metadata": {},
     "output_type": "execute_result"
    }
   ],
   "source": [
    "df.head()"
   ]
  },
  {
   "cell_type": "code",
   "execution_count": 7,
   "id": "--uIBe980WXm",
   "metadata": {
    "id": "--uIBe980WXm"
   },
   "outputs": [
    {
     "data": {
      "text/html": [
       "<div>\n",
       "<style scoped>\n",
       "    .dataframe tbody tr th:only-of-type {\n",
       "        vertical-align: middle;\n",
       "    }\n",
       "\n",
       "    .dataframe tbody tr th {\n",
       "        vertical-align: top;\n",
       "    }\n",
       "\n",
       "    .dataframe thead th {\n",
       "        text-align: right;\n",
       "    }\n",
       "</style>\n",
       "<table border=\"1\" class=\"dataframe\">\n",
       "  <thead>\n",
       "    <tr style=\"text-align: right;\">\n",
       "      <th></th>\n",
       "      <th>userID</th>\n",
       "      <th>assessmentItemID</th>\n",
       "      <th>testId</th>\n",
       "      <th>answerCode</th>\n",
       "      <th>Timestamp</th>\n",
       "      <th>KnowledgeTag</th>\n",
       "    </tr>\n",
       "  </thead>\n",
       "  <tbody>\n",
       "    <tr>\n",
       "      <th>516746</th>\n",
       "      <td>726</td>\n",
       "      <td>A060001001</td>\n",
       "      <td>A060000001</td>\n",
       "      <td>1</td>\n",
       "      <td>2020-01-28 06:47:11</td>\n",
       "      <td>7224</td>\n",
       "    </tr>\n",
       "    <tr>\n",
       "      <th>516747</th>\n",
       "      <td>726</td>\n",
       "      <td>A060001002</td>\n",
       "      <td>A060000001</td>\n",
       "      <td>1</td>\n",
       "      <td>2020-01-28 06:47:16</td>\n",
       "      <td>7225</td>\n",
       "    </tr>\n",
       "    <tr>\n",
       "      <th>516748</th>\n",
       "      <td>726</td>\n",
       "      <td>A060001003</td>\n",
       "      <td>A060000001</td>\n",
       "      <td>1</td>\n",
       "      <td>2020-01-28 06:47:31</td>\n",
       "      <td>7225</td>\n",
       "    </tr>\n",
       "    <tr>\n",
       "      <th>516749</th>\n",
       "      <td>726</td>\n",
       "      <td>A060001004</td>\n",
       "      <td>A060000001</td>\n",
       "      <td>1</td>\n",
       "      <td>2020-01-28 06:48:06</td>\n",
       "      <td>7225</td>\n",
       "    </tr>\n",
       "    <tr>\n",
       "      <th>516750</th>\n",
       "      <td>726</td>\n",
       "      <td>A060001005</td>\n",
       "      <td>A060000001</td>\n",
       "      <td>1</td>\n",
       "      <td>2020-01-28 06:48:18</td>\n",
       "      <td>7225</td>\n",
       "    </tr>\n",
       "    <tr>\n",
       "      <th>...</th>\n",
       "      <td>...</td>\n",
       "      <td>...</td>\n",
       "      <td>...</td>\n",
       "      <td>...</td>\n",
       "      <td>...</td>\n",
       "      <td>...</td>\n",
       "    </tr>\n",
       "    <tr>\n",
       "      <th>517962</th>\n",
       "      <td>726</td>\n",
       "      <td>A010191001</td>\n",
       "      <td>A010000191</td>\n",
       "      <td>1</td>\n",
       "      <td>2020-10-25 09:59:11</td>\n",
       "      <td>7815</td>\n",
       "    </tr>\n",
       "    <tr>\n",
       "      <th>517963</th>\n",
       "      <td>726</td>\n",
       "      <td>A010191002</td>\n",
       "      <td>A010000191</td>\n",
       "      <td>1</td>\n",
       "      <td>2020-10-25 10:00:35</td>\n",
       "      <td>7815</td>\n",
       "    </tr>\n",
       "    <tr>\n",
       "      <th>517964</th>\n",
       "      <td>726</td>\n",
       "      <td>A010191003</td>\n",
       "      <td>A010000191</td>\n",
       "      <td>1</td>\n",
       "      <td>2020-10-25 10:04:34</td>\n",
       "      <td>7815</td>\n",
       "    </tr>\n",
       "    <tr>\n",
       "      <th>517965</th>\n",
       "      <td>726</td>\n",
       "      <td>A010191004</td>\n",
       "      <td>A010000191</td>\n",
       "      <td>1</td>\n",
       "      <td>2020-10-25 10:06:06</td>\n",
       "      <td>7815</td>\n",
       "    </tr>\n",
       "    <tr>\n",
       "      <th>517966</th>\n",
       "      <td>726</td>\n",
       "      <td>A010191005</td>\n",
       "      <td>A010000191</td>\n",
       "      <td>0</td>\n",
       "      <td>2020-10-25 10:07:09</td>\n",
       "      <td>7815</td>\n",
       "    </tr>\n",
       "  </tbody>\n",
       "</table>\n",
       "<p>1221 rows × 6 columns</p>\n",
       "</div>"
      ],
      "text/plain": [
       "        userID assessmentItemID      testId  answerCode           Timestamp  \\\n",
       "516746     726       A060001001  A060000001           1 2020-01-28 06:47:11   \n",
       "516747     726       A060001002  A060000001           1 2020-01-28 06:47:16   \n",
       "516748     726       A060001003  A060000001           1 2020-01-28 06:47:31   \n",
       "516749     726       A060001004  A060000001           1 2020-01-28 06:48:06   \n",
       "516750     726       A060001005  A060000001           1 2020-01-28 06:48:18   \n",
       "...        ...              ...         ...         ...                 ...   \n",
       "517962     726       A010191001  A010000191           1 2020-10-25 09:59:11   \n",
       "517963     726       A010191002  A010000191           1 2020-10-25 10:00:35   \n",
       "517964     726       A010191003  A010000191           1 2020-10-25 10:04:34   \n",
       "517965     726       A010191004  A010000191           1 2020-10-25 10:06:06   \n",
       "517966     726       A010191005  A010000191           0 2020-10-25 10:07:09   \n",
       "\n",
       "        KnowledgeTag  \n",
       "516746          7224  \n",
       "516747          7225  \n",
       "516748          7225  \n",
       "516749          7225  \n",
       "516750          7225  \n",
       "...              ...  \n",
       "517962          7815  \n",
       "517963          7815  \n",
       "517964          7815  \n",
       "517965          7815  \n",
       "517966          7815  \n",
       "\n",
       "[1221 rows x 6 columns]"
      ]
     },
     "execution_count": 7,
     "metadata": {},
     "output_type": "execute_result"
    }
   ],
   "source": [
    "df[df['userID']==726]"
   ]
  },
  {
   "cell_type": "code",
   "execution_count": 8,
   "id": "2FsUsjZ20NR6",
   "metadata": {
    "id": "2FsUsjZ20NR6"
   },
   "outputs": [
    {
     "data": {
      "text/html": [
       "<div>\n",
       "<style scoped>\n",
       "    .dataframe tbody tr th:only-of-type {\n",
       "        vertical-align: middle;\n",
       "    }\n",
       "\n",
       "    .dataframe tbody tr th {\n",
       "        vertical-align: top;\n",
       "    }\n",
       "\n",
       "    .dataframe thead th {\n",
       "        text-align: right;\n",
       "    }\n",
       "</style>\n",
       "<table border=\"1\" class=\"dataframe\">\n",
       "  <thead>\n",
       "    <tr style=\"text-align: right;\">\n",
       "      <th></th>\n",
       "      <th>userID</th>\n",
       "      <th>assessmentItemID</th>\n",
       "      <th>testId</th>\n",
       "      <th>answerCode</th>\n",
       "      <th>Timestamp</th>\n",
       "      <th>KnowledgeTag</th>\n",
       "    </tr>\n",
       "  </thead>\n",
       "  <tbody>\n",
       "  </tbody>\n",
       "</table>\n",
       "</div>"
      ],
      "text/plain": [
       "Empty DataFrame\n",
       "Columns: [userID, assessmentItemID, testId, answerCode, Timestamp, KnowledgeTag]\n",
       "Index: []"
      ]
     },
     "execution_count": 8,
     "metadata": {},
     "output_type": "execute_result"
    }
   ],
   "source": [
    "df[df['KnowledgeTag'].isna()]"
   ]
  },
  {
   "cell_type": "code",
   "execution_count": 39,
   "id": "92ac5be8",
   "metadata": {},
   "outputs": [],
   "source": [
    "# check = df.groupby(['assessmentItemID','KnowledgeTag'])['KnowledgeTag'].agg('count')\n",
    "# check.to_csv('./check.csv')"
   ]
  },
  {
   "cell_type": "markdown",
   "id": "tight-racing",
   "metadata": {
    "ExecuteTime": {
     "end_time": "2021-04-03T03:00:50.749883Z",
     "start_time": "2021-04-03T03:00:50.635872Z"
    },
    "id": "tight-racing"
   },
   "source": [
    "## 1.1 기본적인 내용 파악"
   ]
  },
  {
   "cell_type": "markdown",
   "id": "azyocFXbJMN1",
   "metadata": {
    "id": "azyocFXbJMN1"
   },
   "source": [
    "### (박승아) 시험지 앞에서 두 번째 숫자로 분류"
   ]
  },
  {
   "cell_type": "code",
   "execution_count": 9,
   "id": "sw_g1K_JJzkR",
   "metadata": {
    "id": "sw_g1K_JJzkR"
   },
   "outputs": [
    {
     "data": {
      "text/html": [
       "<div>\n",
       "<style scoped>\n",
       "    .dataframe tbody tr th:only-of-type {\n",
       "        vertical-align: middle;\n",
       "    }\n",
       "\n",
       "    .dataframe tbody tr th {\n",
       "        vertical-align: top;\n",
       "    }\n",
       "\n",
       "    .dataframe thead th {\n",
       "        text-align: right;\n",
       "    }\n",
       "</style>\n",
       "<table border=\"1\" class=\"dataframe\">\n",
       "  <thead>\n",
       "    <tr style=\"text-align: right;\">\n",
       "      <th></th>\n",
       "      <th>userID</th>\n",
       "      <th>assessmentItemID</th>\n",
       "      <th>testId</th>\n",
       "      <th>answerCode</th>\n",
       "      <th>Timestamp</th>\n",
       "      <th>KnowledgeTag</th>\n",
       "    </tr>\n",
       "  </thead>\n",
       "  <tbody>\n",
       "    <tr>\n",
       "      <th>0</th>\n",
       "      <td>0</td>\n",
       "      <td>A060001001</td>\n",
       "      <td>A060000001</td>\n",
       "      <td>1</td>\n",
       "      <td>2020-03-24 00:17:11</td>\n",
       "      <td>7224</td>\n",
       "    </tr>\n",
       "    <tr>\n",
       "      <th>1</th>\n",
       "      <td>0</td>\n",
       "      <td>A060001002</td>\n",
       "      <td>A060000001</td>\n",
       "      <td>1</td>\n",
       "      <td>2020-03-24 00:17:14</td>\n",
       "      <td>7225</td>\n",
       "    </tr>\n",
       "    <tr>\n",
       "      <th>2</th>\n",
       "      <td>0</td>\n",
       "      <td>A060001003</td>\n",
       "      <td>A060000001</td>\n",
       "      <td>1</td>\n",
       "      <td>2020-03-24 00:17:22</td>\n",
       "      <td>7225</td>\n",
       "    </tr>\n",
       "    <tr>\n",
       "      <th>3</th>\n",
       "      <td>0</td>\n",
       "      <td>A060001004</td>\n",
       "      <td>A060000001</td>\n",
       "      <td>1</td>\n",
       "      <td>2020-03-24 00:17:29</td>\n",
       "      <td>7225</td>\n",
       "    </tr>\n",
       "    <tr>\n",
       "      <th>4</th>\n",
       "      <td>0</td>\n",
       "      <td>A060001005</td>\n",
       "      <td>A060000001</td>\n",
       "      <td>1</td>\n",
       "      <td>2020-03-24 00:17:36</td>\n",
       "      <td>7225</td>\n",
       "    </tr>\n",
       "    <tr>\n",
       "      <th>...</th>\n",
       "      <td>...</td>\n",
       "      <td>...</td>\n",
       "      <td>...</td>\n",
       "      <td>...</td>\n",
       "      <td>...</td>\n",
       "      <td>...</td>\n",
       "    </tr>\n",
       "    <tr>\n",
       "      <th>2266581</th>\n",
       "      <td>7441</td>\n",
       "      <td>A030071005</td>\n",
       "      <td>A030000071</td>\n",
       "      <td>0</td>\n",
       "      <td>2020-06-05 06:50:21</td>\n",
       "      <td>438</td>\n",
       "    </tr>\n",
       "    <tr>\n",
       "      <th>2266582</th>\n",
       "      <td>7441</td>\n",
       "      <td>A040165001</td>\n",
       "      <td>A040000165</td>\n",
       "      <td>1</td>\n",
       "      <td>2020-08-21 01:06:39</td>\n",
       "      <td>8836</td>\n",
       "    </tr>\n",
       "    <tr>\n",
       "      <th>2266583</th>\n",
       "      <td>7441</td>\n",
       "      <td>A040165002</td>\n",
       "      <td>A040000165</td>\n",
       "      <td>1</td>\n",
       "      <td>2020-08-21 01:06:50</td>\n",
       "      <td>8836</td>\n",
       "    </tr>\n",
       "    <tr>\n",
       "      <th>2266584</th>\n",
       "      <td>7441</td>\n",
       "      <td>A040165003</td>\n",
       "      <td>A040000165</td>\n",
       "      <td>1</td>\n",
       "      <td>2020-08-21 01:07:36</td>\n",
       "      <td>8836</td>\n",
       "    </tr>\n",
       "    <tr>\n",
       "      <th>2266585</th>\n",
       "      <td>7441</td>\n",
       "      <td>A040165004</td>\n",
       "      <td>A040000165</td>\n",
       "      <td>1</td>\n",
       "      <td>2020-08-21 01:08:49</td>\n",
       "      <td>8836</td>\n",
       "    </tr>\n",
       "  </tbody>\n",
       "</table>\n",
       "<p>2266586 rows × 6 columns</p>\n",
       "</div>"
      ],
      "text/plain": [
       "         userID assessmentItemID      testId  answerCode           Timestamp  \\\n",
       "0             0       A060001001  A060000001           1 2020-03-24 00:17:11   \n",
       "1             0       A060001002  A060000001           1 2020-03-24 00:17:14   \n",
       "2             0       A060001003  A060000001           1 2020-03-24 00:17:22   \n",
       "3             0       A060001004  A060000001           1 2020-03-24 00:17:29   \n",
       "4             0       A060001005  A060000001           1 2020-03-24 00:17:36   \n",
       "...         ...              ...         ...         ...                 ...   \n",
       "2266581    7441       A030071005  A030000071           0 2020-06-05 06:50:21   \n",
       "2266582    7441       A040165001  A040000165           1 2020-08-21 01:06:39   \n",
       "2266583    7441       A040165002  A040000165           1 2020-08-21 01:06:50   \n",
       "2266584    7441       A040165003  A040000165           1 2020-08-21 01:07:36   \n",
       "2266585    7441       A040165004  A040000165           1 2020-08-21 01:08:49   \n",
       "\n",
       "         KnowledgeTag  \n",
       "0                7224  \n",
       "1                7225  \n",
       "2                7225  \n",
       "3                7225  \n",
       "4                7225  \n",
       "...               ...  \n",
       "2266581           438  \n",
       "2266582          8836  \n",
       "2266583          8836  \n",
       "2266584          8836  \n",
       "2266585          8836  \n",
       "\n",
       "[2266586 rows x 6 columns]"
      ]
     },
     "execution_count": 9,
     "metadata": {},
     "output_type": "execute_result"
    }
   ],
   "source": [
    "df"
   ]
  },
  {
   "cell_type": "code",
   "execution_count": 10,
   "id": "jkFXX3zYJ1h7",
   "metadata": {
    "id": "jkFXX3zYJ1h7"
   },
   "outputs": [
    {
     "data": {
      "text/html": [
       "<div>\n",
       "<style scoped>\n",
       "    .dataframe tbody tr th:only-of-type {\n",
       "        vertical-align: middle;\n",
       "    }\n",
       "\n",
       "    .dataframe tbody tr th {\n",
       "        vertical-align: top;\n",
       "    }\n",
       "\n",
       "    .dataframe thead th {\n",
       "        text-align: right;\n",
       "    }\n",
       "</style>\n",
       "<table border=\"1\" class=\"dataframe\">\n",
       "  <thead>\n",
       "    <tr style=\"text-align: right;\">\n",
       "      <th></th>\n",
       "      <th>userID</th>\n",
       "      <th>assessmentItemID</th>\n",
       "      <th>testId</th>\n",
       "      <th>answerCode</th>\n",
       "      <th>Timestamp</th>\n",
       "      <th>KnowledgeTag</th>\n",
       "      <th>testId_group</th>\n",
       "    </tr>\n",
       "  </thead>\n",
       "  <tbody>\n",
       "    <tr>\n",
       "      <th>0</th>\n",
       "      <td>0</td>\n",
       "      <td>A060001001</td>\n",
       "      <td>A060000001</td>\n",
       "      <td>1</td>\n",
       "      <td>2020-03-24 00:17:11</td>\n",
       "      <td>7224</td>\n",
       "      <td>6</td>\n",
       "    </tr>\n",
       "    <tr>\n",
       "      <th>1</th>\n",
       "      <td>0</td>\n",
       "      <td>A060001002</td>\n",
       "      <td>A060000001</td>\n",
       "      <td>1</td>\n",
       "      <td>2020-03-24 00:17:14</td>\n",
       "      <td>7225</td>\n",
       "      <td>6</td>\n",
       "    </tr>\n",
       "    <tr>\n",
       "      <th>2</th>\n",
       "      <td>0</td>\n",
       "      <td>A060001003</td>\n",
       "      <td>A060000001</td>\n",
       "      <td>1</td>\n",
       "      <td>2020-03-24 00:17:22</td>\n",
       "      <td>7225</td>\n",
       "      <td>6</td>\n",
       "    </tr>\n",
       "    <tr>\n",
       "      <th>3</th>\n",
       "      <td>0</td>\n",
       "      <td>A060001004</td>\n",
       "      <td>A060000001</td>\n",
       "      <td>1</td>\n",
       "      <td>2020-03-24 00:17:29</td>\n",
       "      <td>7225</td>\n",
       "      <td>6</td>\n",
       "    </tr>\n",
       "    <tr>\n",
       "      <th>4</th>\n",
       "      <td>0</td>\n",
       "      <td>A060001005</td>\n",
       "      <td>A060000001</td>\n",
       "      <td>1</td>\n",
       "      <td>2020-03-24 00:17:36</td>\n",
       "      <td>7225</td>\n",
       "      <td>6</td>\n",
       "    </tr>\n",
       "    <tr>\n",
       "      <th>...</th>\n",
       "      <td>...</td>\n",
       "      <td>...</td>\n",
       "      <td>...</td>\n",
       "      <td>...</td>\n",
       "      <td>...</td>\n",
       "      <td>...</td>\n",
       "      <td>...</td>\n",
       "    </tr>\n",
       "    <tr>\n",
       "      <th>2266581</th>\n",
       "      <td>7441</td>\n",
       "      <td>A030071005</td>\n",
       "      <td>A030000071</td>\n",
       "      <td>0</td>\n",
       "      <td>2020-06-05 06:50:21</td>\n",
       "      <td>438</td>\n",
       "      <td>3</td>\n",
       "    </tr>\n",
       "    <tr>\n",
       "      <th>2266582</th>\n",
       "      <td>7441</td>\n",
       "      <td>A040165001</td>\n",
       "      <td>A040000165</td>\n",
       "      <td>1</td>\n",
       "      <td>2020-08-21 01:06:39</td>\n",
       "      <td>8836</td>\n",
       "      <td>4</td>\n",
       "    </tr>\n",
       "    <tr>\n",
       "      <th>2266583</th>\n",
       "      <td>7441</td>\n",
       "      <td>A040165002</td>\n",
       "      <td>A040000165</td>\n",
       "      <td>1</td>\n",
       "      <td>2020-08-21 01:06:50</td>\n",
       "      <td>8836</td>\n",
       "      <td>4</td>\n",
       "    </tr>\n",
       "    <tr>\n",
       "      <th>2266584</th>\n",
       "      <td>7441</td>\n",
       "      <td>A040165003</td>\n",
       "      <td>A040000165</td>\n",
       "      <td>1</td>\n",
       "      <td>2020-08-21 01:07:36</td>\n",
       "      <td>8836</td>\n",
       "      <td>4</td>\n",
       "    </tr>\n",
       "    <tr>\n",
       "      <th>2266585</th>\n",
       "      <td>7441</td>\n",
       "      <td>A040165004</td>\n",
       "      <td>A040000165</td>\n",
       "      <td>1</td>\n",
       "      <td>2020-08-21 01:08:49</td>\n",
       "      <td>8836</td>\n",
       "      <td>4</td>\n",
       "    </tr>\n",
       "  </tbody>\n",
       "</table>\n",
       "<p>2266586 rows × 7 columns</p>\n",
       "</div>"
      ],
      "text/plain": [
       "         userID assessmentItemID      testId  answerCode           Timestamp  \\\n",
       "0             0       A060001001  A060000001           1 2020-03-24 00:17:11   \n",
       "1             0       A060001002  A060000001           1 2020-03-24 00:17:14   \n",
       "2             0       A060001003  A060000001           1 2020-03-24 00:17:22   \n",
       "3             0       A060001004  A060000001           1 2020-03-24 00:17:29   \n",
       "4             0       A060001005  A060000001           1 2020-03-24 00:17:36   \n",
       "...         ...              ...         ...         ...                 ...   \n",
       "2266581    7441       A030071005  A030000071           0 2020-06-05 06:50:21   \n",
       "2266582    7441       A040165001  A040000165           1 2020-08-21 01:06:39   \n",
       "2266583    7441       A040165002  A040000165           1 2020-08-21 01:06:50   \n",
       "2266584    7441       A040165003  A040000165           1 2020-08-21 01:07:36   \n",
       "2266585    7441       A040165004  A040000165           1 2020-08-21 01:08:49   \n",
       "\n",
       "         KnowledgeTag testId_group  \n",
       "0                7224            6  \n",
       "1                7225            6  \n",
       "2                7225            6  \n",
       "3                7225            6  \n",
       "4                7225            6  \n",
       "...               ...          ...  \n",
       "2266581           438            3  \n",
       "2266582          8836            4  \n",
       "2266583          8836            4  \n",
       "2266584          8836            4  \n",
       "2266585          8836            4  \n",
       "\n",
       "[2266586 rows x 7 columns]"
      ]
     },
     "execution_count": 10,
     "metadata": {},
     "output_type": "execute_result"
    }
   ],
   "source": [
    "df['testId_group']=df['testId'].apply(lambda x: x[2])\n",
    "df"
   ]
  },
  {
   "cell_type": "code",
   "execution_count": 11,
   "id": "Qn3UdDX0PWfk",
   "metadata": {
    "id": "Qn3UdDX0PWfk"
   },
   "outputs": [
    {
     "data": {
      "text/plain": [
       "testId_group\n",
       "1    272082\n",
       "2    268327\n",
       "3    273762\n",
       "4    267323\n",
       "5    275773\n",
       "6    264434\n",
       "7    279164\n",
       "8    246336\n",
       "9    119385\n",
       "Name: count, dtype: int64"
      ]
     },
     "execution_count": 11,
     "metadata": {},
     "output_type": "execute_result"
    }
   ],
   "source": [
    "df['testId_group'].value_counts().sort_index()"
   ]
  },
  {
   "cell_type": "code",
   "execution_count": 12,
   "id": "d016afe7",
   "metadata": {},
   "outputs": [],
   "source": [
    "def percentile(s):\n",
    "    return np.sum(s) / len(s)"
   ]
  },
  {
   "cell_type": "code",
   "execution_count": 13,
   "id": "B2KEvEkQKN7r",
   "metadata": {
    "id": "B2KEvEkQKN7r"
   },
   "outputs": [
    {
     "data": {
      "text/html": [
       "<div>\n",
       "<style scoped>\n",
       "    .dataframe tbody tr th:only-of-type {\n",
       "        vertical-align: middle;\n",
       "    }\n",
       "\n",
       "    .dataframe tbody tr th {\n",
       "        vertical-align: top;\n",
       "    }\n",
       "\n",
       "    .dataframe thead th {\n",
       "        text-align: right;\n",
       "    }\n",
       "</style>\n",
       "<table border=\"1\" class=\"dataframe\">\n",
       "  <thead>\n",
       "    <tr style=\"text-align: right;\">\n",
       "      <th></th>\n",
       "      <th>answerCode</th>\n",
       "    </tr>\n",
       "    <tr>\n",
       "      <th>testId_group</th>\n",
       "      <th></th>\n",
       "    </tr>\n",
       "  </thead>\n",
       "  <tbody>\n",
       "    <tr>\n",
       "      <th>1</th>\n",
       "      <td>0.800876</td>\n",
       "    </tr>\n",
       "    <tr>\n",
       "      <th>2</th>\n",
       "      <td>0.737593</td>\n",
       "    </tr>\n",
       "    <tr>\n",
       "      <th>3</th>\n",
       "      <td>0.702238</td>\n",
       "    </tr>\n",
       "    <tr>\n",
       "      <th>4</th>\n",
       "      <td>0.684056</td>\n",
       "    </tr>\n",
       "    <tr>\n",
       "      <th>5</th>\n",
       "      <td>0.658208</td>\n",
       "    </tr>\n",
       "    <tr>\n",
       "      <th>6</th>\n",
       "      <td>0.709232</td>\n",
       "    </tr>\n",
       "    <tr>\n",
       "      <th>7</th>\n",
       "      <td>0.521876</td>\n",
       "    </tr>\n",
       "    <tr>\n",
       "      <th>8</th>\n",
       "      <td>0.502598</td>\n",
       "    </tr>\n",
       "    <tr>\n",
       "      <th>9</th>\n",
       "      <td>0.449948</td>\n",
       "    </tr>\n",
       "  </tbody>\n",
       "</table>\n",
       "</div>"
      ],
      "text/plain": [
       "              answerCode\n",
       "testId_group            \n",
       "1               0.800876\n",
       "2               0.737593\n",
       "3               0.702238\n",
       "4               0.684056\n",
       "5               0.658208\n",
       "6               0.709232\n",
       "7               0.521876\n",
       "8               0.502598\n",
       "9               0.449948"
      ]
     },
     "execution_count": 13,
     "metadata": {},
     "output_type": "execute_result"
    }
   ],
   "source": [
    "testId_grouped = df.groupby('testId_group').agg({'answerCode': percentile})\n",
    "testId_grouped"
   ]
  },
  {
   "cell_type": "code",
   "execution_count": 14,
   "id": "a0WEMz6uKsUq",
   "metadata": {
    "id": "a0WEMz6uKsUq"
   },
   "outputs": [
    {
     "data": {
      "image/png": "[encoded data removed]",
      "text/plain": [
       "<Figure size 1200x700 with 1 Axes>"
      ]
     },
     "metadata": {},
     "output_type": "display_data"
    }
   ],
   "source": [
    "fig, ax = plt.subplots(1, 1, figsize=(12, 7))\n",
    "\n",
    "ax.bar(testId_grouped.index, testId_grouped['answerCode'], color='mediumpurple',\n",
    "      edgecolor='black',linewidth=2)\n",
    "\n",
    "for idx, value in zip(testId_grouped.index, testId_grouped['answerCode']):\n",
    "    ax.text(idx, value+0.01, s=round(value,2),\n",
    "                 ha='center',\n",
    "                 fontweight='bold'\n",
    "                )\n",
    "\n",
    "plt.show()\n",
    "# 'testId'의 2번째 숫자 기준 분류"
   ]
  },
  {
   "cell_type": "markdown",
   "id": "m4mmmWQmBAdW",
   "metadata": {
    "id": "m4mmmWQmBAdW"
   },
   "source": [
    "### (박승아) KnowledgeTag 확인"
   ]
  },
  {
   "cell_type": "code",
   "execution_count": 15,
   "id": "fd659445",
   "metadata": {},
   "outputs": [
    {
     "data": {
      "text/plain": [
       "912"
      ]
     },
     "execution_count": 15,
     "metadata": {},
     "output_type": "execute_result"
    }
   ],
   "source": [
    "df['KnowledgeTag'].nunique()"
   ]
  },
  {
   "cell_type": "code",
   "execution_count": 16,
   "id": "jfQ1oDFFBKHa",
   "metadata": {
    "id": "jfQ1oDFFBKHa"
   },
   "outputs": [
    {
     "data": {
      "text/plain": [
       "<matplotlib.collections.PathCollection at 0x1f6a076af90>"
      ]
     },
     "execution_count": 16,
     "metadata": {},
     "output_type": "execute_result"
    },
    {
     "data": {
      "image/png": "[encoded data removed]",
      "text/plain": [
       "<Figure size 3000x300 with 1 Axes>"
      ]
     },
     "metadata": {},
     "output_type": "display_data"
    }
   ],
   "source": [
    "plt.figure(figsize=(30, 3))\n",
    "plt.scatter(df['KnowledgeTag'].value_counts().index, df['KnowledgeTag'].value_counts())"
   ]
  },
  {
   "cell_type": "code",
   "execution_count": 17,
   "id": "971CJFRdxGZc",
   "metadata": {
    "id": "971CJFRdxGZc"
   },
   "outputs": [
    {
     "data": {
      "image/png": "[encoded data removed]",
      "text/plain": [
       "<Figure size 3000x300 with 1 Axes>"
      ]
     },
     "metadata": {},
     "output_type": "display_data"
    },
    {
     "data": {
      "image/png": "[encoded data removed]",
      "text/plain": [
       "<Figure size 3000x300 with 1 Axes>"
      ]
     },
     "metadata": {},
     "output_type": "display_data"
    },
    {
     "data": {
      "image/png": "[encoded data removed]",
      "text/plain": [
       "<Figure size 3000x300 with 1 Axes>"
      ]
     },
     "metadata": {},
     "output_type": "display_data"
    },
    {
     "data": {
      "image/png": "[encoded data removed]",
      "text/plain": [
       "<Figure size 3000x300 with 1 Axes>"
      ]
     },
     "metadata": {},
     "output_type": "display_data"
    },
    {
     "data": {
      "image/png": "[encoded data removed]",
      "text/plain": [
       "<Figure size 3000x300 with 1 Axes>"
      ]
     },
     "metadata": {},
     "output_type": "display_data"
    }
   ],
   "source": [
    "df_new = df[['userID', 'KnowledgeTag']]\n",
    "\n",
    "for i in [0, 1, 2, 5, 6]:\n",
    "    plt.figure(figsize=(30, 3))\n",
    "    plt.scatter(df_new[df_new['userID']==i]['KnowledgeTag'].value_counts().index, df_new[df_new['userID']==i]['KnowledgeTag'].value_counts())"
   ]
  },
  {
   "cell_type": "code",
   "execution_count": 18,
   "id": "922b4a3b",
   "metadata": {},
   "outputs": [
    {
     "data": {
      "text/plain": [
       "9454"
      ]
     },
     "execution_count": 18,
     "metadata": {},
     "output_type": "execute_result"
    }
   ],
   "source": [
    "df_assess = df[['assessmentItemID', 'KnowledgeTag']]\n",
    "len(set(df['assessmentItemID']))"
   ]
  },
  {
   "cell_type": "code",
   "execution_count": 19,
   "id": "21d41a93",
   "metadata": {},
   "outputs": [
    {
     "data": {
      "text/html": [
       "<div>\n",
       "<style scoped>\n",
       "    .dataframe tbody tr th:only-of-type {\n",
       "        vertical-align: middle;\n",
       "    }\n",
       "\n",
       "    .dataframe tbody tr th {\n",
       "        vertical-align: top;\n",
       "    }\n",
       "\n",
       "    .dataframe thead th {\n",
       "        text-align: right;\n",
       "    }\n",
       "</style>\n",
       "<table border=\"1\" class=\"dataframe\">\n",
       "  <thead>\n",
       "    <tr style=\"text-align: right;\">\n",
       "      <th></th>\n",
       "      <th>assessmentItemID</th>\n",
       "      <th>KnowledgeTag</th>\n",
       "      <th>assess_test</th>\n",
       "    </tr>\n",
       "  </thead>\n",
       "  <tbody>\n",
       "    <tr>\n",
       "      <th>0</th>\n",
       "      <td>A060001001</td>\n",
       "      <td>7224</td>\n",
       "      <td>A060001</td>\n",
       "    </tr>\n",
       "    <tr>\n",
       "      <th>1</th>\n",
       "      <td>A060001002</td>\n",
       "      <td>7225</td>\n",
       "      <td>A060001</td>\n",
       "    </tr>\n",
       "    <tr>\n",
       "      <th>2</th>\n",
       "      <td>A060001003</td>\n",
       "      <td>7225</td>\n",
       "      <td>A060001</td>\n",
       "    </tr>\n",
       "    <tr>\n",
       "      <th>3</th>\n",
       "      <td>A060001004</td>\n",
       "      <td>7225</td>\n",
       "      <td>A060001</td>\n",
       "    </tr>\n",
       "    <tr>\n",
       "      <th>4</th>\n",
       "      <td>A060001005</td>\n",
       "      <td>7225</td>\n",
       "      <td>A060001</td>\n",
       "    </tr>\n",
       "    <tr>\n",
       "      <th>...</th>\n",
       "      <td>...</td>\n",
       "      <td>...</td>\n",
       "      <td>...</td>\n",
       "    </tr>\n",
       "    <tr>\n",
       "      <th>2266581</th>\n",
       "      <td>A030071005</td>\n",
       "      <td>438</td>\n",
       "      <td>A030071</td>\n",
       "    </tr>\n",
       "    <tr>\n",
       "      <th>2266582</th>\n",
       "      <td>A040165001</td>\n",
       "      <td>8836</td>\n",
       "      <td>A040165</td>\n",
       "    </tr>\n",
       "    <tr>\n",
       "      <th>2266583</th>\n",
       "      <td>A040165002</td>\n",
       "      <td>8836</td>\n",
       "      <td>A040165</td>\n",
       "    </tr>\n",
       "    <tr>\n",
       "      <th>2266584</th>\n",
       "      <td>A040165003</td>\n",
       "      <td>8836</td>\n",
       "      <td>A040165</td>\n",
       "    </tr>\n",
       "    <tr>\n",
       "      <th>2266585</th>\n",
       "      <td>A040165004</td>\n",
       "      <td>8836</td>\n",
       "      <td>A040165</td>\n",
       "    </tr>\n",
       "  </tbody>\n",
       "</table>\n",
       "<p>2266586 rows × 3 columns</p>\n",
       "</div>"
      ],
      "text/plain": [
       "        assessmentItemID  KnowledgeTag assess_test\n",
       "0             A060001001          7224     A060001\n",
       "1             A060001002          7225     A060001\n",
       "2             A060001003          7225     A060001\n",
       "3             A060001004          7225     A060001\n",
       "4             A060001005          7225     A060001\n",
       "...                  ...           ...         ...\n",
       "2266581       A030071005           438     A030071\n",
       "2266582       A040165001          8836     A040165\n",
       "2266583       A040165002          8836     A040165\n",
       "2266584       A040165003          8836     A040165\n",
       "2266585       A040165004          8836     A040165\n",
       "\n",
       "[2266586 rows x 3 columns]"
      ]
     },
     "execution_count": 19,
     "metadata": {},
     "output_type": "execute_result"
    }
   ],
   "source": [
    "df_assess['assess_test'] = df_assess['assessmentItemID'].apply(lambda x: x[:7])\n",
    "df_assess"
   ]
  },
  {
   "cell_type": "code",
   "execution_count": 20,
   "id": "d84248ab",
   "metadata": {},
   "outputs": [
    {
     "name": "stdout",
     "output_type": "stream",
     "text": [
      "----- A010001 -----\n",
      "KnowledgeTag\n",
      "5844    5.0\n",
      "Name: count, dtype: float64\n",
      "----- A010002 -----\n",
      "KnowledgeTag\n",
      "5844    3.0\n",
      "6803    2.0\n",
      "Name: count, dtype: float64\n",
      "----- A010003 -----\n",
      "KnowledgeTag\n",
      "6307    1.0\n",
      "6804    2.0\n",
      "6806    2.0\n",
      "Name: count, dtype: float64\n",
      "----- A010004 -----\n",
      "KnowledgeTag\n",
      "5845    2.0\n",
      "6804    1.0\n",
      "6806    2.0\n",
      "Name: count, dtype: float64\n",
      "----- A010005 -----\n",
      "KnowledgeTag\n",
      "5846    1.0\n",
      "6308    4.0\n",
      "Name: count, dtype: float64\n",
      "----- A010006 -----\n",
      "KnowledgeTag\n",
      "5846    1.0\n",
      "6308    4.0\n",
      "Name: count, dtype: float64\n",
      "----- A010007 -----\n",
      "KnowledgeTag\n",
      "5814    5.0\n",
      "Name: count, dtype: float64\n",
      "----- A010008 -----\n",
      "KnowledgeTag\n",
      "5814    5.0\n",
      "Name: count, dtype: float64\n",
      "----- A010009 -----\n",
      "KnowledgeTag\n",
      "5485    5.0\n",
      "Name: count, dtype: float64\n",
      "----- A010010 -----\n",
      "KnowledgeTag\n",
      "5485    5.0\n",
      "Name: count, dtype: float64\n"
     ]
    }
   ],
   "source": [
    "test_list = sorted(list(set(df_assess['assess_test'])))[:10]\n",
    "for i in test_list:\n",
    "    print('-'*5, i, '-'*5)\n",
    "    print(df_assess[df_assess['assess_test']==i]['KnowledgeTag'].value_counts().sort_index()/df_assess[df_assess['assess_test']==i]['assessmentItemID'].value_counts()[0])"
   ]
  },
  {
   "cell_type": "code",
   "execution_count": 21,
   "id": "b515762c",
   "metadata": {},
   "outputs": [
    {
     "data": {
      "text/html": [
       "<div>\n",
       "<style scoped>\n",
       "    .dataframe tbody tr th:only-of-type {\n",
       "        vertical-align: middle;\n",
       "    }\n",
       "\n",
       "    .dataframe tbody tr th {\n",
       "        vertical-align: top;\n",
       "    }\n",
       "\n",
       "    .dataframe thead th {\n",
       "        text-align: right;\n",
       "    }\n",
       "</style>\n",
       "<table border=\"1\" class=\"dataframe\">\n",
       "  <thead>\n",
       "    <tr style=\"text-align: right;\">\n",
       "      <th></th>\n",
       "      <th>assess_test</th>\n",
       "    </tr>\n",
       "  </thead>\n",
       "  <tbody>\n",
       "    <tr>\n",
       "      <th>0</th>\n",
       "      <td>A010001</td>\n",
       "    </tr>\n",
       "    <tr>\n",
       "      <th>1</th>\n",
       "      <td>A010002</td>\n",
       "    </tr>\n",
       "    <tr>\n",
       "      <th>2</th>\n",
       "      <td>A010003</td>\n",
       "    </tr>\n",
       "    <tr>\n",
       "      <th>3</th>\n",
       "      <td>A010004</td>\n",
       "    </tr>\n",
       "    <tr>\n",
       "      <th>4</th>\n",
       "      <td>A010005</td>\n",
       "    </tr>\n",
       "    <tr>\n",
       "      <th>...</th>\n",
       "      <td>...</td>\n",
       "    </tr>\n",
       "    <tr>\n",
       "      <th>1532</th>\n",
       "      <td>A090070</td>\n",
       "    </tr>\n",
       "    <tr>\n",
       "      <th>1533</th>\n",
       "      <td>A090071</td>\n",
       "    </tr>\n",
       "    <tr>\n",
       "      <th>1534</th>\n",
       "      <td>A090072</td>\n",
       "    </tr>\n",
       "    <tr>\n",
       "      <th>1535</th>\n",
       "      <td>A090073</td>\n",
       "    </tr>\n",
       "    <tr>\n",
       "      <th>1536</th>\n",
       "      <td>A090074</td>\n",
       "    </tr>\n",
       "  </tbody>\n",
       "</table>\n",
       "<p>1537 rows × 1 columns</p>\n",
       "</div>"
      ],
      "text/plain": [
       "     assess_test\n",
       "0        A010001\n",
       "1        A010002\n",
       "2        A010003\n",
       "3        A010004\n",
       "4        A010005\n",
       "...          ...\n",
       "1532     A090070\n",
       "1533     A090071\n",
       "1534     A090072\n",
       "1535     A090073\n",
       "1536     A090074\n",
       "\n",
       "[1537 rows x 1 columns]"
      ]
     },
     "execution_count": 21,
     "metadata": {},
     "output_type": "execute_result"
    }
   ],
   "source": [
    "df_tag = pd.DataFrame({\"assess_test\":sorted(df_assess['assess_test'].unique())})\n",
    "df_tag"
   ]
  },
  {
   "cell_type": "code",
   "execution_count": 22,
   "id": "19fdcb9e",
   "metadata": {},
   "outputs": [
    {
     "name": "stderr",
     "output_type": "stream",
     "text": [
      "100%|███████████████████████████████████████████| 1537/1537 [04:24<00:00,  5.82it/s]\n"
     ]
    },
    {
     "data": {
      "text/html": [
       "<div>\n",
       "<style scoped>\n",
       "    .dataframe tbody tr th:only-of-type {\n",
       "        vertical-align: middle;\n",
       "    }\n",
       "\n",
       "    .dataframe tbody tr th {\n",
       "        vertical-align: top;\n",
       "    }\n",
       "\n",
       "    .dataframe thead th {\n",
       "        text-align: right;\n",
       "    }\n",
       "</style>\n",
       "<table border=\"1\" class=\"dataframe\">\n",
       "  <thead>\n",
       "    <tr style=\"text-align: right;\">\n",
       "      <th></th>\n",
       "      <th>assess_test</th>\n",
       "      <th>Tag</th>\n",
       "    </tr>\n",
       "  </thead>\n",
       "  <tbody>\n",
       "    <tr>\n",
       "      <th>0</th>\n",
       "      <td>A010001</td>\n",
       "      <td>[5844, 5844, 5844, 5844, 5844]</td>\n",
       "    </tr>\n",
       "    <tr>\n",
       "      <th>1</th>\n",
       "      <td>A010002</td>\n",
       "      <td>[5844, 5844, 5844, 6803, 6803]</td>\n",
       "    </tr>\n",
       "    <tr>\n",
       "      <th>2</th>\n",
       "      <td>A010003</td>\n",
       "      <td>[6307, 6804, 6804, 6806, 6806]</td>\n",
       "    </tr>\n",
       "    <tr>\n",
       "      <th>3</th>\n",
       "      <td>A010004</td>\n",
       "      <td>[5845, 5845, 6804, 6806, 6806]</td>\n",
       "    </tr>\n",
       "    <tr>\n",
       "      <th>4</th>\n",
       "      <td>A010005</td>\n",
       "      <td>[5846, 6308, 6308, 6308, 6308]</td>\n",
       "    </tr>\n",
       "    <tr>\n",
       "      <th>...</th>\n",
       "      <td>...</td>\n",
       "      <td>...</td>\n",
       "    </tr>\n",
       "    <tr>\n",
       "      <th>1532</th>\n",
       "      <td>A090070</td>\n",
       "      <td>[2647, 9925, 9925, 9926, 9929, 9929, 9929, 9929]</td>\n",
       "    </tr>\n",
       "    <tr>\n",
       "      <th>1533</th>\n",
       "      <td>A090071</td>\n",
       "      <td>[2644, 2647, 2647, 9924, 9924, 9926, 9929, 9929]</td>\n",
       "    </tr>\n",
       "    <tr>\n",
       "      <th>1534</th>\n",
       "      <td>A090072</td>\n",
       "      <td>[2648, 4243, 4243, 4243, 4243, 4243]</td>\n",
       "    </tr>\n",
       "    <tr>\n",
       "      <th>1535</th>\n",
       "      <td>A090073</td>\n",
       "      <td>[2648, 2648, 2648, 4243, 10196, 10196]</td>\n",
       "    </tr>\n",
       "    <tr>\n",
       "      <th>1536</th>\n",
       "      <td>A090074</td>\n",
       "      <td>[2648, 2648, 4243, 4243, 4243, 10196]</td>\n",
       "    </tr>\n",
       "  </tbody>\n",
       "</table>\n",
       "<p>1537 rows × 2 columns</p>\n",
       "</div>"
      ],
      "text/plain": [
       "     assess_test                                               Tag\n",
       "0        A010001                    [5844, 5844, 5844, 5844, 5844]\n",
       "1        A010002                    [5844, 5844, 5844, 6803, 6803]\n",
       "2        A010003                    [6307, 6804, 6804, 6806, 6806]\n",
       "3        A010004                    [5845, 5845, 6804, 6806, 6806]\n",
       "4        A010005                    [5846, 6308, 6308, 6308, 6308]\n",
       "...          ...                                               ...\n",
       "1532     A090070  [2647, 9925, 9925, 9926, 9929, 9929, 9929, 9929]\n",
       "1533     A090071  [2644, 2647, 2647, 9924, 9924, 9926, 9929, 9929]\n",
       "1534     A090072              [2648, 4243, 4243, 4243, 4243, 4243]\n",
       "1535     A090073            [2648, 2648, 2648, 4243, 10196, 10196]\n",
       "1536     A090074             [2648, 2648, 4243, 4243, 4243, 10196]\n",
       "\n",
       "[1537 rows x 2 columns]"
      ]
     },
     "execution_count": 22,
     "metadata": {},
     "output_type": "execute_result"
    }
   ],
   "source": [
    "for i in tqdm(range(df_tag.shape[0])):\n",
    "    exp = df_assess[df_assess['assess_test']==df_tag.loc[i, 'assess_test']]['KnowledgeTag'].value_counts().sort_index()//df_assess[df_assess['assess_test']==df_tag.loc[i, 'assess_test']]['assessmentItemID'].value_counts()[0]\n",
    "    list = []\n",
    "    for j, k in zip(exp.index, exp):\n",
    "        for m in range(k):\n",
    "            list.append(j)\n",
    "    df_tag.loc[i,'Tag'] = str(list)\n",
    "    \n",
    "df_tag"
   ]
  },
  {
   "cell_type": "code",
   "execution_count": 23,
   "id": "80cbfe3a",
   "metadata": {},
   "outputs": [
    {
     "data": {
      "text/html": [
       "<div>\n",
       "<style scoped>\n",
       "    .dataframe tbody tr th:only-of-type {\n",
       "        vertical-align: middle;\n",
       "    }\n",
       "\n",
       "    .dataframe tbody tr th {\n",
       "        vertical-align: top;\n",
       "    }\n",
       "\n",
       "    .dataframe thead th {\n",
       "        text-align: right;\n",
       "    }\n",
       "</style>\n",
       "<table border=\"1\" class=\"dataframe\">\n",
       "  <thead>\n",
       "    <tr style=\"text-align: right;\">\n",
       "      <th></th>\n",
       "      <th>assess_test</th>\n",
       "      <th>Tag</th>\n",
       "    </tr>\n",
       "  </thead>\n",
       "  <tbody>\n",
       "    <tr>\n",
       "      <th>0</th>\n",
       "      <td>A010001</td>\n",
       "      <td>5844,5844,5844,5844,5844</td>\n",
       "    </tr>\n",
       "    <tr>\n",
       "      <th>1</th>\n",
       "      <td>A010002</td>\n",
       "      <td>5844,5844,5844,6803,6803</td>\n",
       "    </tr>\n",
       "    <tr>\n",
       "      <th>2</th>\n",
       "      <td>A010003</td>\n",
       "      <td>6307,6804,6804,6806,6806</td>\n",
       "    </tr>\n",
       "    <tr>\n",
       "      <th>3</th>\n",
       "      <td>A010004</td>\n",
       "      <td>5845,5845,6804,6806,6806</td>\n",
       "    </tr>\n",
       "    <tr>\n",
       "      <th>4</th>\n",
       "      <td>A010005</td>\n",
       "      <td>5846,6308,6308,6308,6308</td>\n",
       "    </tr>\n",
       "    <tr>\n",
       "      <th>...</th>\n",
       "      <td>...</td>\n",
       "      <td>...</td>\n",
       "    </tr>\n",
       "    <tr>\n",
       "      <th>1532</th>\n",
       "      <td>A090070</td>\n",
       "      <td>2647,9925,9925,9926,9929,9929,9929,9929</td>\n",
       "    </tr>\n",
       "    <tr>\n",
       "      <th>1533</th>\n",
       "      <td>A090071</td>\n",
       "      <td>2644,2647,2647,9924,9924,9926,9929,9929</td>\n",
       "    </tr>\n",
       "    <tr>\n",
       "      <th>1534</th>\n",
       "      <td>A090072</td>\n",
       "      <td>2648,4243,4243,4243,4243,4243</td>\n",
       "    </tr>\n",
       "    <tr>\n",
       "      <th>1535</th>\n",
       "      <td>A090073</td>\n",
       "      <td>2648,2648,2648,4243,10196,10196</td>\n",
       "    </tr>\n",
       "    <tr>\n",
       "      <th>1536</th>\n",
       "      <td>A090074</td>\n",
       "      <td>2648,2648,4243,4243,4243,10196</td>\n",
       "    </tr>\n",
       "  </tbody>\n",
       "</table>\n",
       "<p>1537 rows × 2 columns</p>\n",
       "</div>"
      ],
      "text/plain": [
       "     assess_test                                      Tag\n",
       "0        A010001                 5844,5844,5844,5844,5844\n",
       "1        A010002                 5844,5844,5844,6803,6803\n",
       "2        A010003                 6307,6804,6804,6806,6806\n",
       "3        A010004                 5845,5845,6804,6806,6806\n",
       "4        A010005                 5846,6308,6308,6308,6308\n",
       "...          ...                                      ...\n",
       "1532     A090070  2647,9925,9925,9926,9929,9929,9929,9929\n",
       "1533     A090071  2644,2647,2647,9924,9924,9926,9929,9929\n",
       "1534     A090072            2648,4243,4243,4243,4243,4243\n",
       "1535     A090073          2648,2648,2648,4243,10196,10196\n",
       "1536     A090074           2648,2648,4243,4243,4243,10196\n",
       "\n",
       "[1537 rows x 2 columns]"
      ]
     },
     "execution_count": 23,
     "metadata": {},
     "output_type": "execute_result"
    }
   ],
   "source": [
    "df_tag['Tag'] = df_tag['Tag'].apply(lambda x: x.split('[')[1].split(']')[0].replace(' ',''))\n",
    "df_tag"
   ]
  },
  {
   "cell_type": "code",
   "execution_count": 24,
   "id": "d201f69d",
   "metadata": {},
   "outputs": [],
   "source": [
    "df_tag['assess_test'] = df_tag['assess_test'].apply(lambda x: x[:4]+'000'+x[4:])\n",
    "df_tag.rename(columns={'assess_test':'testId'}, inplace=True)"
   ]
  },
  {
   "cell_type": "code",
   "execution_count": 31,
   "id": "93347714",
   "metadata": {},
   "outputs": [],
   "source": [
    "#df_tag.to_csv('./Tag.csv')"
   ]
  },
  {
   "cell_type": "code",
   "execution_count": 33,
   "id": "2acca256",
   "metadata": {},
   "outputs": [
    {
     "data": {
      "text/html": [
       "<div>\n",
       "<style scoped>\n",
       "    .dataframe tbody tr th:only-of-type {\n",
       "        vertical-align: middle;\n",
       "    }\n",
       "\n",
       "    .dataframe tbody tr th {\n",
       "        vertical-align: top;\n",
       "    }\n",
       "\n",
       "    .dataframe thead th {\n",
       "        text-align: right;\n",
       "    }\n",
       "</style>\n",
       "<table border=\"1\" class=\"dataframe\">\n",
       "  <thead>\n",
       "    <tr style=\"text-align: right;\">\n",
       "      <th></th>\n",
       "      <th>Unnamed: 0</th>\n",
       "      <th>testId</th>\n",
       "      <th>Tag</th>\n",
       "    </tr>\n",
       "  </thead>\n",
       "  <tbody>\n",
       "    <tr>\n",
       "      <th>0</th>\n",
       "      <td>0</td>\n",
       "      <td>A010000001</td>\n",
       "      <td>5844,5844,5844,5844,5844</td>\n",
       "    </tr>\n",
       "    <tr>\n",
       "      <th>1</th>\n",
       "      <td>1</td>\n",
       "      <td>A010000002</td>\n",
       "      <td>5844,5844,5844,6803,6803</td>\n",
       "    </tr>\n",
       "    <tr>\n",
       "      <th>2</th>\n",
       "      <td>2</td>\n",
       "      <td>A010000003</td>\n",
       "      <td>6307,6804,6804,6806,6806</td>\n",
       "    </tr>\n",
       "    <tr>\n",
       "      <th>3</th>\n",
       "      <td>3</td>\n",
       "      <td>A010000004</td>\n",
       "      <td>5845,5845,6804,6806,6806</td>\n",
       "    </tr>\n",
       "    <tr>\n",
       "      <th>4</th>\n",
       "      <td>4</td>\n",
       "      <td>A010000005</td>\n",
       "      <td>5846,6308,6308,6308,6308</td>\n",
       "    </tr>\n",
       "    <tr>\n",
       "      <th>...</th>\n",
       "      <td>...</td>\n",
       "      <td>...</td>\n",
       "      <td>...</td>\n",
       "    </tr>\n",
       "    <tr>\n",
       "      <th>1532</th>\n",
       "      <td>1532</td>\n",
       "      <td>A090000070</td>\n",
       "      <td>2647,9925,9925,9926,9929,9929,9929,9929</td>\n",
       "    </tr>\n",
       "    <tr>\n",
       "      <th>1533</th>\n",
       "      <td>1533</td>\n",
       "      <td>A090000071</td>\n",
       "      <td>2644,2647,2647,9924,9924,9926,9929,9929</td>\n",
       "    </tr>\n",
       "    <tr>\n",
       "      <th>1534</th>\n",
       "      <td>1534</td>\n",
       "      <td>A090000072</td>\n",
       "      <td>2648,4243,4243,4243,4243,4243</td>\n",
       "    </tr>\n",
       "    <tr>\n",
       "      <th>1535</th>\n",
       "      <td>1535</td>\n",
       "      <td>A090000073</td>\n",
       "      <td>2648,2648,2648,4243,10196,10196</td>\n",
       "    </tr>\n",
       "    <tr>\n",
       "      <th>1536</th>\n",
       "      <td>1536</td>\n",
       "      <td>A090000074</td>\n",
       "      <td>2648,2648,4243,4243,4243,10196</td>\n",
       "    </tr>\n",
       "  </tbody>\n",
       "</table>\n",
       "<p>1537 rows × 3 columns</p>\n",
       "</div>"
      ],
      "text/plain": [
       "      Unnamed: 0      testId                                      Tag\n",
       "0              0  A010000001                 5844,5844,5844,5844,5844\n",
       "1              1  A010000002                 5844,5844,5844,6803,6803\n",
       "2              2  A010000003                 6307,6804,6804,6806,6806\n",
       "3              3  A010000004                 5845,5845,6804,6806,6806\n",
       "4              4  A010000005                 5846,6308,6308,6308,6308\n",
       "...          ...         ...                                      ...\n",
       "1532        1532  A090000070  2647,9925,9925,9926,9929,9929,9929,9929\n",
       "1533        1533  A090000071  2644,2647,2647,9924,9924,9926,9929,9929\n",
       "1534        1534  A090000072            2648,4243,4243,4243,4243,4243\n",
       "1535        1535  A090000073          2648,2648,2648,4243,10196,10196\n",
       "1536        1536  A090000074           2648,2648,4243,4243,4243,10196\n",
       "\n",
       "[1537 rows x 3 columns]"
      ]
     },
     "execution_count": 33,
     "metadata": {},
     "output_type": "execute_result"
    }
   ],
   "source": [
    "data = pd.read_csv('./Tag.csv')\n",
    "data"
   ]
  },
  {
   "cell_type": "markdown",
   "id": "d1537074",
   "metadata": {},
   "source": [
    "## Left Join 확인"
   ]
  },
  {
   "cell_type": "code",
   "execution_count": 26,
   "id": "c6b2b0d5",
   "metadata": {
    "scrolled": true
   },
   "outputs": [
    {
     "data": {
      "text/html": [
       "<div>\n",
       "<style scoped>\n",
       "    .dataframe tbody tr th:only-of-type {\n",
       "        vertical-align: middle;\n",
       "    }\n",
       "\n",
       "    .dataframe tbody tr th {\n",
       "        vertical-align: top;\n",
       "    }\n",
       "\n",
       "    .dataframe thead th {\n",
       "        text-align: right;\n",
       "    }\n",
       "</style>\n",
       "<table border=\"1\" class=\"dataframe\">\n",
       "  <thead>\n",
       "    <tr style=\"text-align: right;\">\n",
       "      <th></th>\n",
       "      <th>userID</th>\n",
       "      <th>assessmentItemID</th>\n",
       "      <th>testId</th>\n",
       "      <th>answerCode</th>\n",
       "      <th>Timestamp</th>\n",
       "      <th>KnowledgeTag</th>\n",
       "      <th>testId_group</th>\n",
       "      <th>Tag</th>\n",
       "    </tr>\n",
       "  </thead>\n",
       "  <tbody>\n",
       "    <tr>\n",
       "      <th>0</th>\n",
       "      <td>0</td>\n",
       "      <td>A060001001</td>\n",
       "      <td>A060000001</td>\n",
       "      <td>1</td>\n",
       "      <td>2020-03-24 00:17:11</td>\n",
       "      <td>7224</td>\n",
       "      <td>6</td>\n",
       "      <td>7224,7225,7225,7225,7225,7225</td>\n",
       "    </tr>\n",
       "    <tr>\n",
       "      <th>1</th>\n",
       "      <td>0</td>\n",
       "      <td>A060001002</td>\n",
       "      <td>A060000001</td>\n",
       "      <td>1</td>\n",
       "      <td>2020-03-24 00:17:14</td>\n",
       "      <td>7225</td>\n",
       "      <td>6</td>\n",
       "      <td>7224,7225,7225,7225,7225,7225</td>\n",
       "    </tr>\n",
       "    <tr>\n",
       "      <th>2</th>\n",
       "      <td>0</td>\n",
       "      <td>A060001003</td>\n",
       "      <td>A060000001</td>\n",
       "      <td>1</td>\n",
       "      <td>2020-03-24 00:17:22</td>\n",
       "      <td>7225</td>\n",
       "      <td>6</td>\n",
       "      <td>7224,7225,7225,7225,7225,7225</td>\n",
       "    </tr>\n",
       "    <tr>\n",
       "      <th>3</th>\n",
       "      <td>0</td>\n",
       "      <td>A060001004</td>\n",
       "      <td>A060000001</td>\n",
       "      <td>1</td>\n",
       "      <td>2020-03-24 00:17:29</td>\n",
       "      <td>7225</td>\n",
       "      <td>6</td>\n",
       "      <td>7224,7225,7225,7225,7225,7225</td>\n",
       "    </tr>\n",
       "    <tr>\n",
       "      <th>4</th>\n",
       "      <td>0</td>\n",
       "      <td>A060001005</td>\n",
       "      <td>A060000001</td>\n",
       "      <td>1</td>\n",
       "      <td>2020-03-24 00:17:36</td>\n",
       "      <td>7225</td>\n",
       "      <td>6</td>\n",
       "      <td>7224,7225,7225,7225,7225,7225</td>\n",
       "    </tr>\n",
       "    <tr>\n",
       "      <th>...</th>\n",
       "      <td>...</td>\n",
       "      <td>...</td>\n",
       "      <td>...</td>\n",
       "      <td>...</td>\n",
       "      <td>...</td>\n",
       "      <td>...</td>\n",
       "      <td>...</td>\n",
       "      <td>...</td>\n",
       "    </tr>\n",
       "    <tr>\n",
       "      <th>2266581</th>\n",
       "      <td>7441</td>\n",
       "      <td>A030071005</td>\n",
       "      <td>A030000071</td>\n",
       "      <td>0</td>\n",
       "      <td>2020-06-05 06:50:21</td>\n",
       "      <td>438</td>\n",
       "      <td>3</td>\n",
       "      <td>438,438,438,438,438</td>\n",
       "    </tr>\n",
       "    <tr>\n",
       "      <th>2266582</th>\n",
       "      <td>7441</td>\n",
       "      <td>A040165001</td>\n",
       "      <td>A040000165</td>\n",
       "      <td>1</td>\n",
       "      <td>2020-08-21 01:06:39</td>\n",
       "      <td>8836</td>\n",
       "      <td>4</td>\n",
       "      <td>8836,8836,8836,8836</td>\n",
       "    </tr>\n",
       "    <tr>\n",
       "      <th>2266583</th>\n",
       "      <td>7441</td>\n",
       "      <td>A040165002</td>\n",
       "      <td>A040000165</td>\n",
       "      <td>1</td>\n",
       "      <td>2020-08-21 01:06:50</td>\n",
       "      <td>8836</td>\n",
       "      <td>4</td>\n",
       "      <td>8836,8836,8836,8836</td>\n",
       "    </tr>\n",
       "    <tr>\n",
       "      <th>2266584</th>\n",
       "      <td>7441</td>\n",
       "      <td>A040165003</td>\n",
       "      <td>A040000165</td>\n",
       "      <td>1</td>\n",
       "      <td>2020-08-21 01:07:36</td>\n",
       "      <td>8836</td>\n",
       "      <td>4</td>\n",
       "      <td>8836,8836,8836,8836</td>\n",
       "    </tr>\n",
       "    <tr>\n",
       "      <th>2266585</th>\n",
       "      <td>7441</td>\n",
       "      <td>A040165004</td>\n",
       "      <td>A040000165</td>\n",
       "      <td>1</td>\n",
       "      <td>2020-08-21 01:08:49</td>\n",
       "      <td>8836</td>\n",
       "      <td>4</td>\n",
       "      <td>8836,8836,8836,8836</td>\n",
       "    </tr>\n",
       "  </tbody>\n",
       "</table>\n",
       "<p>2266586 rows × 8 columns</p>\n",
       "</div>"
      ],
      "text/plain": [
       "         userID assessmentItemID      testId  answerCode           Timestamp  \\\n",
       "0             0       A060001001  A060000001           1 2020-03-24 00:17:11   \n",
       "1             0       A060001002  A060000001           1 2020-03-24 00:17:14   \n",
       "2             0       A060001003  A060000001           1 2020-03-24 00:17:22   \n",
       "3             0       A060001004  A060000001           1 2020-03-24 00:17:29   \n",
       "4             0       A060001005  A060000001           1 2020-03-24 00:17:36   \n",
       "...         ...              ...         ...         ...                 ...   \n",
       "2266581    7441       A030071005  A030000071           0 2020-06-05 06:50:21   \n",
       "2266582    7441       A040165001  A040000165           1 2020-08-21 01:06:39   \n",
       "2266583    7441       A040165002  A040000165           1 2020-08-21 01:06:50   \n",
       "2266584    7441       A040165003  A040000165           1 2020-08-21 01:07:36   \n",
       "2266585    7441       A040165004  A040000165           1 2020-08-21 01:08:49   \n",
       "\n",
       "         KnowledgeTag testId_group                            Tag  \n",
       "0                7224            6  7224,7225,7225,7225,7225,7225  \n",
       "1                7225            6  7224,7225,7225,7225,7225,7225  \n",
       "2                7225            6  7224,7225,7225,7225,7225,7225  \n",
       "3                7225            6  7224,7225,7225,7225,7225,7225  \n",
       "4                7225            6  7224,7225,7225,7225,7225,7225  \n",
       "...               ...          ...                            ...  \n",
       "2266581           438            3            438,438,438,438,438  \n",
       "2266582          8836            4            8836,8836,8836,8836  \n",
       "2266583          8836            4            8836,8836,8836,8836  \n",
       "2266584          8836            4            8836,8836,8836,8836  \n",
       "2266585          8836            4            8836,8836,8836,8836  \n",
       "\n",
       "[2266586 rows x 8 columns]"
      ]
     },
     "execution_count": 26,
     "metadata": {},
     "output_type": "execute_result"
    }
   ],
   "source": [
    "df_left = pd.merge(df, df_tag, left_on='testId', right_on='testId', how='left')\n",
    "df_left"
   ]
  },
  {
   "cell_type": "code",
   "execution_count": 27,
   "id": "a3fc51be",
   "metadata": {},
   "outputs": [
    {
     "data": {
      "text/plain": [
       "userID              0\n",
       "assessmentItemID    0\n",
       "testId              0\n",
       "answerCode          0\n",
       "Timestamp           0\n",
       "KnowledgeTag        0\n",
       "testId_group        0\n",
       "Tag                 0\n",
       "dtype: int64"
      ]
     },
     "execution_count": 27,
     "metadata": {},
     "output_type": "execute_result"
    }
   ],
   "source": [
    "df_left.isna().sum()"
   ]
  },
  {
   "cell_type": "code",
   "execution_count": 28,
   "id": "347692b9",
   "metadata": {},
   "outputs": [
    {
     "data": {
      "text/plain": [
       "2.0"
      ]
     },
     "execution_count": 28,
     "metadata": {},
     "output_type": "execute_result"
    }
   ],
   "source": [
    "# df_assess[df_assess['assess_test']=='A090074']['KnowledgeTag'].value_counts().sort_index()[2648]/df_assess[df_assess['assess_test']=='A090074']['assessmentItemID'].value_counts()[0]"
   ]
  },
  {
   "cell_type": "code",
   "execution_count": 29,
   "id": "c1929cd2",
   "metadata": {},
   "outputs": [
    {
     "data": {
      "text/plain": [
       "assessmentItemID\n",
       "A090074001    45\n",
       "A090074004    45\n",
       "A090074002    45\n",
       "A090074003    45\n",
       "A090074005    45\n",
       "A090074006    45\n",
       "Name: count, dtype: int64"
      ]
     },
     "execution_count": 29,
     "metadata": {},
     "output_type": "execute_result"
    }
   ],
   "source": [
    "# df_assess[df_assess['assess_test']=='A090074']['assessmentItemID'].value_counts()"
   ]
  },
  {
   "cell_type": "markdown",
   "id": "a83d7469",
   "metadata": {
    "id": "a83d7469"
   },
   "source": [
    "###**콘텐츠 라이선스**\n",
    "\n",
    "<font color='red'><b>**WARNING**</b></font> : **본 교육 콘텐츠의 지식재산권은 재단법인 네이버커넥트에 귀속됩니다. 본 콘텐츠를 어떠한 경로로든 외부로 유출 및 수정하는 행위를 엄격히 금합니다.** 다만, 비영리적 교육 및 연구활동에 한정되어 사용할 수 있으나 재단의 허락을 받아야 합니다. 이를 위반하는 경우, 관련 법률에 따라 책임을 질 수 있습니다.\n",
    "\n"
   ]
  },
  {
   "cell_type": "code",
   "execution_count": null,
   "id": "a89d581f",
   "metadata": {
    "id": "a89d581f"
   },
   "outputs": [],
   "source": []
  }
 ],
 "metadata": {
  "colab": {
   "collapsed_sections": [
    "configured-verse",
    "formal-blogger"
   ],
   "provenance": []
  },
  "kernelspec": {
   "display_name": "Python 3 (ipykernel)",
   "language": "python",
   "name": "python3"
  },
  "language_info": {
   "codemirror_mode": {
    "name": "ipython",
    "version": 3
   },
   "file_extension": ".py",
   "mimetype": "text/x-python",
   "name": "python",
   "nbconvert_exporter": "python",
   "pygments_lexer": "ipython3",
   "version": "3.11.5"
  },
  "toc": {
   "base_numbering": 1,
   "nav_menu": {},
   "number_sections": false,
   "sideBar": true,
   "skip_h1_title": false,
   "title_cell": "Table of Contents",
   "title_sidebar": "Contents",
   "toc_cell": false,
   "toc_position": {
    "height": "calc(100% - 180px)",
    "left": "10px",
    "top": "150px",
    "width": "178px"
   },
   "toc_section_display": true,
   "toc_window_display": true
  },
  "varInspector": {
   "cols": {
    "lenName": 16,
    "lenType": 16,
    "lenVar": 40
   },
   "kernels_config": {
    "python": {
     "delete_cmd_postfix": "",
     "delete_cmd_prefix": "del ",
     "library": "var_list.py",
     "varRefreshCmd": "print(var_dic_list())"
    },
    "r": {
     "delete_cmd_postfix": ") ",
     "delete_cmd_prefix": "rm(",
     "library": "var_list.r",
     "varRefreshCmd": "cat(var_dic_list()) "
    }
   },
   "types_to_exclude": [
    "module",
    "function",
    "builtin_function_or_method",
    "instance",
    "_Feature"
   ],
   "window_display": false
  }
 },
 "nbformat": 4,
 "nbformat_minor": 5
}
